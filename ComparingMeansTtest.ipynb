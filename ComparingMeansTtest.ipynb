{
 "cells": [
  {
   "cell_type": "markdown",
   "metadata": {},
   "source": [
    "# Hypothesis Testing - Part 2. Comparing Means (t test)\n",
    "\n",
    "The ANOVA of Test is a hypothesis test typically used to determine if 3 or more means are different.\n",
    "\n",
    "**Assumptions**  \n",
    "\n",
    "Conditions for Inference:  \n",
    "1) Random Sample (Both  samples are random)    \n",
    "2) Samples are Normal ( or can approximate normal if n >30 or underlying is approx symmetrical and not skewed \n",
    "3) Observations in sample are independant (Either done with replacement or less than 10% of population)\n",
    "\n",
    "\n",
    "\n",
    "**Hypothesis**  \n",
    "**Null:** Means are equal.  \n",
    "**Alternative:** Means are not equal  \n",
    "If the p value is less than the significance level then we can reject the null hypothesis.\n",
    "\n",
    "\n",
    "The following Resources have been used:  \n",
    "\n",
    "\n",
    "*This notebook is from a series on Hypothesis Testing* \n",
    "1. *Hypothesis Testing - Comparing Proportions (z test)*\n",
    "2. ***Hypothesis Testing - Comparing Means (t test)***  \n",
    "3. *Hypothesis Testing - Chi Sq*  \n",
    "4. *Hypothesis Testing - ANOVA*  "
   ]
  },
  {
   "cell_type": "markdown",
   "metadata": {},
   "source": [
    "#### Libraries"
   ]
  },
  {
   "cell_type": "code",
   "execution_count": 105,
   "metadata": {},
   "outputs": [],
   "source": [
    "import numpy as np\n",
    "import pandas as pd\n",
    "from scipy import stats\n",
    "from sklearn import datasets\n",
    "import matplotlib.pyplot as plt\n",
    "import seaborn as sns"
   ]
  },
  {
   "cell_type": "markdown",
   "metadata": {},
   "source": [
    "#### Import the data \n",
    "Here we are using the stroke data set from kaggle"
   ]
  },
  {
   "cell_type": "code",
   "execution_count": 106,
   "metadata": {},
   "outputs": [
    {
     "data": {
      "text/html": [
       "<div>\n",
       "<style scoped>\n",
       "    .dataframe tbody tr th:only-of-type {\n",
       "        vertical-align: middle;\n",
       "    }\n",
       "\n",
       "    .dataframe tbody tr th {\n",
       "        vertical-align: top;\n",
       "    }\n",
       "\n",
       "    .dataframe thead th {\n",
       "        text-align: right;\n",
       "    }\n",
       "</style>\n",
       "<table border=\"1\" class=\"dataframe\">\n",
       "  <thead>\n",
       "    <tr style=\"text-align: right;\">\n",
       "      <th></th>\n",
       "      <th>id</th>\n",
       "      <th>gender</th>\n",
       "      <th>age</th>\n",
       "      <th>hypertension</th>\n",
       "      <th>heart_disease</th>\n",
       "      <th>ever_married</th>\n",
       "      <th>work_type</th>\n",
       "      <th>Residence_type</th>\n",
       "      <th>avg_glucose_level</th>\n",
       "      <th>bmi</th>\n",
       "      <th>smoking_status</th>\n",
       "      <th>stroke</th>\n",
       "    </tr>\n",
       "  </thead>\n",
       "  <tbody>\n",
       "    <tr>\n",
       "      <th>0</th>\n",
       "      <td>9046</td>\n",
       "      <td>Male</td>\n",
       "      <td>67.0</td>\n",
       "      <td>0</td>\n",
       "      <td>1</td>\n",
       "      <td>Yes</td>\n",
       "      <td>Private</td>\n",
       "      <td>Urban</td>\n",
       "      <td>228.69</td>\n",
       "      <td>36.6</td>\n",
       "      <td>formerly smoked</td>\n",
       "      <td>1</td>\n",
       "    </tr>\n",
       "    <tr>\n",
       "      <th>1</th>\n",
       "      <td>51676</td>\n",
       "      <td>Female</td>\n",
       "      <td>61.0</td>\n",
       "      <td>0</td>\n",
       "      <td>0</td>\n",
       "      <td>Yes</td>\n",
       "      <td>Self-employed</td>\n",
       "      <td>Rural</td>\n",
       "      <td>202.21</td>\n",
       "      <td>NaN</td>\n",
       "      <td>never smoked</td>\n",
       "      <td>1</td>\n",
       "    </tr>\n",
       "    <tr>\n",
       "      <th>2</th>\n",
       "      <td>31112</td>\n",
       "      <td>Male</td>\n",
       "      <td>80.0</td>\n",
       "      <td>0</td>\n",
       "      <td>1</td>\n",
       "      <td>Yes</td>\n",
       "      <td>Private</td>\n",
       "      <td>Rural</td>\n",
       "      <td>105.92</td>\n",
       "      <td>32.5</td>\n",
       "      <td>never smoked</td>\n",
       "      <td>1</td>\n",
       "    </tr>\n",
       "    <tr>\n",
       "      <th>3</th>\n",
       "      <td>60182</td>\n",
       "      <td>Female</td>\n",
       "      <td>49.0</td>\n",
       "      <td>0</td>\n",
       "      <td>0</td>\n",
       "      <td>Yes</td>\n",
       "      <td>Private</td>\n",
       "      <td>Urban</td>\n",
       "      <td>171.23</td>\n",
       "      <td>34.4</td>\n",
       "      <td>smokes</td>\n",
       "      <td>1</td>\n",
       "    </tr>\n",
       "    <tr>\n",
       "      <th>4</th>\n",
       "      <td>1665</td>\n",
       "      <td>Female</td>\n",
       "      <td>79.0</td>\n",
       "      <td>1</td>\n",
       "      <td>0</td>\n",
       "      <td>Yes</td>\n",
       "      <td>Self-employed</td>\n",
       "      <td>Rural</td>\n",
       "      <td>174.12</td>\n",
       "      <td>24.0</td>\n",
       "      <td>never smoked</td>\n",
       "      <td>1</td>\n",
       "    </tr>\n",
       "  </tbody>\n",
       "</table>\n",
       "</div>"
      ],
      "text/plain": [
       "      id  gender   age  hypertension  heart_disease ever_married  \\\n",
       "0   9046    Male  67.0             0              1          Yes   \n",
       "1  51676  Female  61.0             0              0          Yes   \n",
       "2  31112    Male  80.0             0              1          Yes   \n",
       "3  60182  Female  49.0             0              0          Yes   \n",
       "4   1665  Female  79.0             1              0          Yes   \n",
       "\n",
       "       work_type Residence_type  avg_glucose_level   bmi   smoking_status  \\\n",
       "0        Private          Urban             228.69  36.6  formerly smoked   \n",
       "1  Self-employed          Rural             202.21   NaN     never smoked   \n",
       "2        Private          Rural             105.92  32.5     never smoked   \n",
       "3        Private          Urban             171.23  34.4           smokes   \n",
       "4  Self-employed          Rural             174.12  24.0     never smoked   \n",
       "\n",
       "   stroke  \n",
       "0       1  \n",
       "1       1  \n",
       "2       1  \n",
       "3       1  \n",
       "4       1  "
      ]
     },
     "execution_count": 106,
     "metadata": {},
     "output_type": "execute_result"
    }
   ],
   "source": [
    "stroke = pd.read_csv('./data/healthcare-dataset-stroke-data.csv')\n",
    "stroke.head()"
   ]
  },
  {
   "cell_type": "code",
   "execution_count": 107,
   "metadata": {},
   "outputs": [
    {
     "data": {
      "text/plain": [
       "201"
      ]
     },
     "execution_count": 107,
     "metadata": {},
     "output_type": "execute_result"
    }
   ],
   "source": [
    "stroke['bmi'].isna().sum()"
   ]
  },
  {
   "cell_type": "code",
   "execution_count": 108,
   "metadata": {},
   "outputs": [
    {
     "name": "stdout",
     "output_type": "stream",
     "text": [
      "The mean bmi is 28.893236911794663\n"
     ]
    },
    {
     "data": {
      "text/html": [
       "<div>\n",
       "<style scoped>\n",
       "    .dataframe tbody tr th:only-of-type {\n",
       "        vertical-align: middle;\n",
       "    }\n",
       "\n",
       "    .dataframe tbody tr th {\n",
       "        vertical-align: top;\n",
       "    }\n",
       "\n",
       "    .dataframe thead th {\n",
       "        text-align: right;\n",
       "    }\n",
       "</style>\n",
       "<table border=\"1\" class=\"dataframe\">\n",
       "  <thead>\n",
       "    <tr style=\"text-align: right;\">\n",
       "      <th></th>\n",
       "      <th>id</th>\n",
       "      <th>age</th>\n",
       "      <th>hypertension</th>\n",
       "      <th>heart_disease</th>\n",
       "      <th>avg_glucose_level</th>\n",
       "      <th>bmi</th>\n",
       "      <th>stroke</th>\n",
       "    </tr>\n",
       "  </thead>\n",
       "  <tbody>\n",
       "    <tr>\n",
       "      <th>count</th>\n",
       "      <td>4909.000000</td>\n",
       "      <td>4909.000000</td>\n",
       "      <td>4909.000000</td>\n",
       "      <td>4909.000000</td>\n",
       "      <td>4909.000000</td>\n",
       "      <td>4909.000000</td>\n",
       "      <td>4909.000000</td>\n",
       "    </tr>\n",
       "    <tr>\n",
       "      <th>mean</th>\n",
       "      <td>37064.313506</td>\n",
       "      <td>42.865374</td>\n",
       "      <td>0.091872</td>\n",
       "      <td>0.049501</td>\n",
       "      <td>105.305150</td>\n",
       "      <td>28.893237</td>\n",
       "      <td>0.042575</td>\n",
       "    </tr>\n",
       "    <tr>\n",
       "      <th>std</th>\n",
       "      <td>20995.098457</td>\n",
       "      <td>22.555115</td>\n",
       "      <td>0.288875</td>\n",
       "      <td>0.216934</td>\n",
       "      <td>44.424341</td>\n",
       "      <td>7.854067</td>\n",
       "      <td>0.201917</td>\n",
       "    </tr>\n",
       "    <tr>\n",
       "      <th>min</th>\n",
       "      <td>77.000000</td>\n",
       "      <td>0.080000</td>\n",
       "      <td>0.000000</td>\n",
       "      <td>0.000000</td>\n",
       "      <td>55.120000</td>\n",
       "      <td>10.300000</td>\n",
       "      <td>0.000000</td>\n",
       "    </tr>\n",
       "    <tr>\n",
       "      <th>25%</th>\n",
       "      <td>18605.000000</td>\n",
       "      <td>25.000000</td>\n",
       "      <td>0.000000</td>\n",
       "      <td>0.000000</td>\n",
       "      <td>77.070000</td>\n",
       "      <td>23.500000</td>\n",
       "      <td>0.000000</td>\n",
       "    </tr>\n",
       "    <tr>\n",
       "      <th>50%</th>\n",
       "      <td>37608.000000</td>\n",
       "      <td>44.000000</td>\n",
       "      <td>0.000000</td>\n",
       "      <td>0.000000</td>\n",
       "      <td>91.680000</td>\n",
       "      <td>28.100000</td>\n",
       "      <td>0.000000</td>\n",
       "    </tr>\n",
       "    <tr>\n",
       "      <th>75%</th>\n",
       "      <td>55220.000000</td>\n",
       "      <td>60.000000</td>\n",
       "      <td>0.000000</td>\n",
       "      <td>0.000000</td>\n",
       "      <td>113.570000</td>\n",
       "      <td>33.100000</td>\n",
       "      <td>0.000000</td>\n",
       "    </tr>\n",
       "    <tr>\n",
       "      <th>max</th>\n",
       "      <td>72940.000000</td>\n",
       "      <td>82.000000</td>\n",
       "      <td>1.000000</td>\n",
       "      <td>1.000000</td>\n",
       "      <td>271.740000</td>\n",
       "      <td>97.600000</td>\n",
       "      <td>1.000000</td>\n",
       "    </tr>\n",
       "  </tbody>\n",
       "</table>\n",
       "</div>"
      ],
      "text/plain": [
       "                 id          age  hypertension  heart_disease  \\\n",
       "count   4909.000000  4909.000000   4909.000000    4909.000000   \n",
       "mean   37064.313506    42.865374      0.091872       0.049501   \n",
       "std    20995.098457    22.555115      0.288875       0.216934   \n",
       "min       77.000000     0.080000      0.000000       0.000000   \n",
       "25%    18605.000000    25.000000      0.000000       0.000000   \n",
       "50%    37608.000000    44.000000      0.000000       0.000000   \n",
       "75%    55220.000000    60.000000      0.000000       0.000000   \n",
       "max    72940.000000    82.000000      1.000000       1.000000   \n",
       "\n",
       "       avg_glucose_level          bmi       stroke  \n",
       "count        4909.000000  4909.000000  4909.000000  \n",
       "mean          105.305150    28.893237     0.042575  \n",
       "std            44.424341     7.854067     0.201917  \n",
       "min            55.120000    10.300000     0.000000  \n",
       "25%            77.070000    23.500000     0.000000  \n",
       "50%            91.680000    28.100000     0.000000  \n",
       "75%           113.570000    33.100000     0.000000  \n",
       "max           271.740000    97.600000     1.000000  "
      ]
     },
     "execution_count": 108,
     "metadata": {},
     "output_type": "execute_result"
    }
   ],
   "source": [
    "stroke_bmi = stroke.dropna(subset=(['bmi']))\n",
    "# stroke\n",
    "print(\"The mean bmi is {}\".format(stroke_bmi['bmi'].mean()))\n",
    "stroke_bmi.describe()"
   ]
  },
  {
   "cell_type": "markdown",
   "metadata": {},
   "source": [
    "## 1. Confidence Intervals for difference in Means\n",
    "#### Create a function to calculate the CI of the difference between means"
   ]
  },
  {
   "cell_type": "code",
   "execution_count": 109,
   "metadata": {},
   "outputs": [],
   "source": [
    "def ci_two_means(x1,x2,sd1,sd2,n1,n2,tail,conf):\n",
    "\n",
    "    se = np.sqrt((sd1**2/n1) + (sd2**2/n2))\n",
    "   #df = min(n1,n2) -1\n",
    "    \n",
    "    dof = (sd1**2/n1 + sd2**2/n2)**2/ ((1/(n1-1)*(sd1**2/n1)**2 + (1/(n2-1)*(sd2**2/n2)**2)))\n",
    "                                                                 \n",
    "    if tail == 2:\n",
    "        q = (1+conf)/2\n",
    "    else:\n",
    "        q= conf\n",
    "\n",
    "    t = stats.t.ppf(q,dof)\n",
    "    CI = round((x2-x1)-t*se,4), round((x2-x1)+t*se,4)\n",
    "    \n",
    "    print(\"There are {:.1f} degrees of freedom\".format(dof))\n",
    "    print(\"A t test has been calculated at {:.1%} confidence for the difference of two means: \".format(conf))\n",
    "    print(\"{:.4f} and {:.4f} with respective sample sizes {} and {}. The t statistic is {:.3f}\".format(x2, x1, n2,n1,t))\n",
    "    if CI[0]<=0 and CI[1] >= 0:   \n",
    "        print(\"We are {:.1%} confident that the difference in means is between {} and {}\".format(conf, CI[0],CI[1])) \n",
    "        print(\"Because the confidence interval includes zero, we conclude that the difference is not statistically significant\")\n",
    "    else:\n",
    "        print(\"We are {:.1%} confident that the difference in means is between {} and {}\".format(conf, CI[0],CI[1])) \n",
    "        print(\"Because the confidence interval does not includes zero, we conclude that the difference is statistically significant\")\n",
    "    \n",
    "    return CI\n"
   ]
  },
  {
   "cell_type": "code",
   "execution_count": 110,
   "metadata": {},
   "outputs": [
    {
     "name": "stdout",
     "output_type": "stream",
     "text": [
      "There are 4538.8 degrees of freedom\n",
      "A t test has been calculated at 95.0% confidence for the difference of two means: \n",
      "29.0658 and 28.6479 with respective sample sizes 2897 and 2011. The t statistic is 1.960\n",
      "We are 95.0% confident that the difference in means is between -0.0224 and 0.858\n",
      "Because the confidence interval includes zero, we conclude that the difference is not statistically significant\n",
      "\n",
      "\n",
      "There are 4538.8 degrees of freedom\n",
      "A t test has been calculated at 90.0% confidence for the difference of two means: \n",
      "29.0658 and 28.6479 with respective sample sizes 2897 and 2011. The t statistic is 1.645\n",
      "We are 90.0% confident that the difference in means is between 0.0484 and 0.7872\n",
      "Because the confidence interval does not includes zero, we conclude that the difference is statistically significant\n"
     ]
    },
    {
     "data": {
      "text/plain": [
       "(0.0484, 0.7872)"
      ]
     },
     "execution_count": 110,
     "metadata": {},
     "output_type": "execute_result"
    }
   ],
   "source": [
    "mean_m = stroke_bmi.query(\"gender == 'Male'\")['bmi'].mean()\n",
    "mean_f = stroke_bmi.query(\"gender == 'Female'\")['bmi'].mean()\n",
    "std_m = stroke_bmi.query(\"gender == 'Male'\")['bmi'].std()\n",
    "std_f= stroke_bmi.query(\"gender == 'Female'\")['bmi'].std()\n",
    "size_m = stroke_bmi.query(\"gender == 'Male'\")['bmi'].count()\n",
    "size_f = stroke_bmi.query(\"gender == 'Female'\")['bmi'].count()\n",
    "\n",
    "#95% CI\n",
    "ci_two_means(mean_m,mean_f,std_m,std_f,size_m,size_f,2,0.95)\n",
    "\n",
    "print ('\\n')\n",
    "#90% CI\n",
    "ci_two_means(mean_m,mean_f,std_m,std_f,size_m,size_f,2,0.90)\n"
   ]
  },
  {
   "cell_type": "markdown",
   "metadata": {},
   "source": [
    "#### Plot the means to illustrate"
   ]
  },
  {
   "cell_type": "code",
   "execution_count": 111,
   "metadata": {},
   "outputs": [
    {
     "data": {
      "image/png": "[encoded data removed]",
      "text/plain": [
       "<Figure size 432.625x360 with 1 Axes>"
      ]
     },
     "metadata": {
      "needs_background": "light"
     },
     "output_type": "display_data"
    }
   ],
   "source": [
    "sns.displot(data = stroke_bmi, x = 'bmi', hue ='gender' )\n",
    "\n",
    "plt.title('BMI density plot ')\n",
    "plt.xlabel('BMI')\n",
    "plt.ylabel('Density')\n",
    "\n",
    "plt.show()"
   ]
  },
  {
   "cell_type": "markdown",
   "metadata": {},
   "source": [
    "## 2. Confidence Intervals for one Mean"
   ]
  },
  {
   "cell_type": "markdown",
   "metadata": {},
   "source": [
    "#### Adapt the function to work for one population"
   ]
  },
  {
   "cell_type": "code",
   "execution_count": 112,
   "metadata": {},
   "outputs": [],
   "source": [
    "def ci_one_mean(x1,sd1,n1,tail,conf):\n",
    "    \n",
    "    se = np.sqrt((sd1**2)/n1)   \n",
    "    dof = n1-1\n",
    "                                                                 \n",
    "    if tail == 2:\n",
    "        q = (1+conf)/2\n",
    "    else:\n",
    "        q= conf\n",
    "\n",
    "    t = stats.t.ppf(q,dof)\n",
    "    CI = round((x1)-t*se,4), round((x1)+t*se,4)\n",
    "    print(t)\n",
    "    print(\"There are {:.0f} degrees of freedom\".format(dof))\n",
    "    print(\"We are {:.1%} confident that the mean is between {} and {}\".format(conf, CI[0],CI[1])) \n",
    "\n",
    "    return CI"
   ]
  },
  {
   "cell_type": "code",
   "execution_count": 113,
   "metadata": {},
   "outputs": [
    {
     "name": "stdout",
     "output_type": "stream",
     "text": [
      "1.6456120727025103\n",
      "There are 2010 degrees of freedom\n",
      "We are 90.0% confident that the mean is between 28.374 and 28.9219\n"
     ]
    },
    {
     "data": {
      "text/plain": [
       "(28.374, 28.9219)"
      ]
     },
     "execution_count": 113,
     "metadata": {},
     "output_type": "execute_result"
    }
   ],
   "source": [
    "# Male Confidence Interval - 90%\n",
    "ci_one_mean(mean_m,std_m, size_m, 2,.90)"
   ]
  },
  {
   "cell_type": "code",
   "execution_count": 114,
   "metadata": {},
   "outputs": [
    {
     "name": "stdout",
     "output_type": "stream",
     "text": [
      "1.645379959709201\n",
      "There are 2896 degrees of freedom\n",
      "We are 90.0% confident that the mean is between 28.8178 and 29.3137\n"
     ]
    },
    {
     "data": {
      "text/plain": [
       "(28.8178, 29.3137)"
      ]
     },
     "execution_count": 114,
     "metadata": {},
     "output_type": "execute_result"
    }
   ],
   "source": [
    "#Female Confidence Interval - 90%\n",
    "ci_one_mean(mean_f,std_f, size_f, 2,.90)"
   ]
  },
  {
   "cell_type": "markdown",
   "metadata": {},
   "source": [
    "## 3. Hypothesis Testing Means"
   ]
  },
  {
   "cell_type": "code",
   "execution_count": 118,
   "metadata": {},
   "outputs": [],
   "source": [
    "def compare_two_means(x1,x2,sd1,sd2,n1,n2,tail, alpha):\n",
    "    \n",
    "    x21 = x2-x1\n",
    "    SE = np.sqrt((sd1**2/n1 + sd2**2/n2))\n",
    "    critical_t = x21/SE\n",
    "\n",
    "    dof = (sd1**2/n1 + sd2**2/n2)**2/ ((1/(n1-1)*(sd1**2/n1)**2 + (1/(n2-1)*(sd2**2/n2)**2)))\n",
    "    p_val = tail*stats.t.cdf(-np.abs(critical_t), dof)\n",
    "    if p_val <= alpha:\n",
    "        print(\"We reject the Null Hypothesis with a pvalue {:2f}\".format(p_val))\n",
    "    else:\n",
    "        print(\"We fail to reject the Null Hypothesis with a pvalue {:.4f}\".format(p_val))\n",
    "    \n",
    "    print (\"The t stat is {:.3f} , there are {:.1f} degrees of freedom\".format( critical_t, dof))\n",
    "\n",
    "    return "
   ]
  },
  {
   "cell_type": "code",
   "execution_count": 119,
   "metadata": {},
   "outputs": [
    {
     "name": "stdout",
     "output_type": "stream",
     "text": [
      "We reject the Null Hypothesis with a pvalue 0.062830\n",
      "The t stat is 1.861 , there are 4538.8 degrees of freedom\n"
     ]
    }
   ],
   "source": [
    "compare_two_means(mean_m,mean_f,std_m,std_f,size_m,size_f,2,0.1)\n"
   ]
  },
  {
   "cell_type": "code",
   "execution_count": null,
   "metadata": {},
   "outputs": [],
   "source": []
  }
 ],
 "metadata": {
  "kernelspec": {
   "display_name": "Python [conda env:ads033]",
   "language": "python",
   "name": "conda-env-ads033-py"
  },
  "language_info": {
   "codemirror_mode": {
    "name": "ipython",
    "version": 3
   },
   "file_extension": ".py",
   "mimetype": "text/x-python",
   "name": "python",
   "nbconvert_exporter": "python",
   "pygments_lexer": "ipython3",
   "version": "3.6.7"
  }
 },
 "nbformat": 4,
 "nbformat_minor": 4
}
