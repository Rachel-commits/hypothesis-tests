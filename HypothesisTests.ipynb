{
 "cells": [
  {
   "cell_type": "markdown",
   "metadata": {},
   "source": [
    "# Hypothesis Testing 101\n",
    "\n",
    "This notebook is split into subsections detailing situations for different hypothesis Tests.\n",
    "Hypothesis testing normally is done on proportion and mean.\n",
    "- 1.Hypothesis Testing for One Proportion\n",
    "- 2.Hypothesis Tests for the Difference in Two Proportions\n",
    "- 3.Hypothesis Testing for One Mean\n",
    "- 4.Hypothesis Testing for the Difference in Mean\n",
    "- 5.Chi Squared\n",
    "- 6.Anova"
   ]
  },
  {
   "cell_type": "code",
   "execution_count": 216,
   "metadata": {},
   "outputs": [],
   "source": [
    "import numpy as np\n",
    "import pandas as pd\n",
    "from scipy import stats"
   ]
  },
  {
   "cell_type": "markdown",
   "metadata": {},
   "source": [
    "### 2. Hypothesis Tests for the Difference in Two Proportions\n",
    "\n",
    "Conditions for Inference:  \n",
    "1) Random Sample (Both  samples are random)    \n",
    "2) np1 > 10 n(1-p1) > 10 np2 > 10 n(1-p2) > 10  \n",
    "3) Observations in sample are independant (Either done with replacement or less than 10% of population)\n",
    "\n",
    "Do not need 30 condition when dealing with proportions, we do for means"
   ]
  },
  {
   "cell_type": "markdown",
   "metadata": {},
   "source": [
    "#### Example 2A\n",
    "\n",
    "Duncan is investigating if residents in the city support the construction of a new high school. He is curious avout the differenve of opinion between the noth and the south parts of the city.He obtained the following information as a random sample.\n",
    "\n",
    "\n",
    "|Supports|North|South|\n",
    "|---|---|---|\n",
    "Yes|54|77|\n",
    "No|66|63|\n",
    "Total|120|140|\n",
    "\n",
    "What is the 90% CI in the difference of opinions who support the project (Ps-Pn)\n"
   ]
  },
  {
   "cell_type": "code",
   "execution_count": 181,
   "metadata": {},
   "outputs": [
    {
     "data": {
      "text/plain": [
       "0.08922934450742903"
      ]
     },
     "execution_count": 181,
     "metadata": {},
     "output_type": "execute_result"
    }
   ],
   "source": [
    "# Confidence Interval between 2 means\n",
    "p1 = 176/200\n",
    "p2 = 168/200\n",
    "p = (176+168)/(400)\n",
    "n1 = 200\n",
    "n2 = 200\n",
    "p21 = p2-p1\n",
    "conf = 0.99\n",
    "tail = 2\n",
    "if tail == 2:\n",
    "    q = (1+conf)/2\n",
    "else:\n",
    "    q= conf\n",
    "\n",
    "\n",
    "var1_est = p1*(1-p1)/n1\n",
    "var2_est = p2*(1-p2)/n2\n",
    "\n",
    "sd_est = np.sqrt(var1_est + var2_est)\n",
    "\n",
    "z = stats.norm.ppf(q)\n",
    "error = z*(sd_est)\n",
    "CI = p21-error, p21+error\n",
    "# print(p1,p2, p21, var1_est,var2_est,sd_est)\n",
    "# print(stats.norm.ppf(q))\n",
    "\n",
    "CI\n",
    "error\n"
   ]
  },
  {
   "cell_type": "markdown",
   "metadata": {},
   "source": [
    "Noe that we are doing a hypothesis test where we are testing for difference in proportions = 0\n",
    "We use the combined as the standard error of estimate\n",
    "SE = sqrt(p(1-p) (1/n1 + 1/n2))\n"
   ]
  },
  {
   "cell_type": "code",
   "execution_count": 182,
   "metadata": {},
   "outputs": [
    {
     "name": "stdout",
     "output_type": "stream",
     "text": [
      "We fail to reject the Null Hypothesis with a pvalue 0.249000\n"
     ]
    }
   ],
   "source": [
    "# P values on the same data \n",
    "# H0 p2-p1 = 0\n",
    "# H0 p2-p1 ^=0\n",
    "# Significance = 5%\n",
    "\n",
    "alpha = 0.05\n",
    "\n",
    "SE = np.sqrt(p*(1-p)*(1/n1 + 1/n2))\n",
    "SE\n",
    "\n",
    "critical_z = p21/SE\n",
    "\n",
    "critical_z\n",
    "p_val = stats.norm.cdf(critical_z)\n",
    "p_val = tail*stats.norm.cdf(-np.abs(critical_z))\n",
    "p_val\n",
    "if p_val <= alpha:\n",
    "    print(\"We reject the Null Hypothesis with a pvalue {:2f}\".format(p_val))\n",
    "else:\n",
    "     print(\"We fail to reject the Null Hypothesis with a pvalue {:2f}\".format(p_val))"
   ]
  },
  {
   "cell_type": "code",
   "execution_count": 183,
   "metadata": {},
   "outputs": [
    {
     "name": "stdout",
     "output_type": "stream",
     "text": [
      "We reject the Null Hypothesis with a pvalue 0.000000\n"
     ]
    },
    {
     "data": {
      "text/plain": [
       "160.80605044147393"
      ]
     },
     "execution_count": 183,
     "metadata": {},
     "output_type": "execute_result"
    }
   ],
   "source": [
    "# P values on the same data \n",
    "# H0 p2-p1 = 0\n",
    "# H0 p2-p1 ^=0\n",
    "# Significance = 5%\n",
    "\n",
    "alpha = 0.01\n",
    "\n",
    "p1 = 168\n",
    "p2 = 176\n",
    "p = 0.55\n",
    "n1 = 200\n",
    "n2 = 200\n",
    "p21 = p2-p1\n",
    "\n",
    "SE = np.sqrt(p*(1-p)*(1/n1 + 1/n2))\n",
    "SE\n",
    "\n",
    "critical_z = p21/SE\n",
    "\n",
    "critical_z\n",
    "p_val = tail*stats.norm.cdf(-np.abs(critical_z))\n",
    "p_val\n",
    "if p_val <= alpha:\n",
    "    print(\"We reject the Null Hypothesis with a pvalue {:2f}\".format(p_val))\n",
    "else:\n",
    "     print(\"We fail to reject the Null Hypothesis with a pvalue {:2f}\".format(p_val))\n",
    "critical_z"
   ]
  },
  {
   "cell_type": "markdown",
   "metadata": {},
   "source": [
    "#### Convert the above into a function"
   ]
  },
  {
   "cell_type": "code",
   "execution_count": 184,
   "metadata": {},
   "outputs": [],
   "source": [
    "def compare_two_propotions(s1,s2,n1,n2,t, alpha):\n",
    "    \n",
    "    p1 = s1/n1\n",
    "    p2= s2/n2\n",
    "    p21 = p2-p1\n",
    "    p = (s1 + s2)/(n1 +n2)\n",
    "    SE = np.sqrt(p*(1-p)*(1/n1 + 1/n2))\n",
    "    critical_z = p21/SE\n",
    "    p_val = t*stats.norm.cdf(-np.abs(critical_z))\n",
    "    if p_val <= alpha:\n",
    "        print(\"We reject the Null Hypothesis with a pvalue {:2f}\".format(p_val))\n",
    "    else:\n",
    "        print(\"We fail to reject the Null Hypothesis with a pvalue {:2f}\".format(p_val))\n",
    "    \n",
    "    print (\"The Z Score is \", critical_z)\n",
    "    return "
   ]
  },
  {
   "cell_type": "code",
   "execution_count": 185,
   "metadata": {},
   "outputs": [
    {
     "name": "stdout",
     "output_type": "stream",
     "text": [
      "We fail to reject the Null Hypothesis with a pvalue 0.107896\n",
      "The Z Score is  1.607721471364662\n"
     ]
    }
   ],
   "source": [
    "compare_two_propotions(54,77,120,140,2, 0.05)"
   ]
  },
  {
   "cell_type": "code",
   "execution_count": 186,
   "metadata": {},
   "outputs": [
    {
     "name": "stdout",
     "output_type": "stream",
     "text": [
      "We fail to reject the Null Hypothesis with a pvalue 0.393769\n",
      "The Z Score is  -0.8528028654224409\n"
     ]
    }
   ],
   "source": [
    "compare_two_propotions(58,52,100,100,2, 0.05)"
   ]
  },
  {
   "cell_type": "code",
   "execution_count": 187,
   "metadata": {},
   "outputs": [
    {
     "name": "stdout",
     "output_type": "stream",
     "text": [
      "We fail to reject the Null Hypothesis with a pvalue 0.053292\n",
      "The Z Score is  1.6137430609197567\n"
     ]
    }
   ],
   "source": [
    "compare_two_propotions(132,228,400,600,1, 0.05)"
   ]
  },
  {
   "cell_type": "code",
   "execution_count": 188,
   "metadata": {},
   "outputs": [
    {
     "name": "stdout",
     "output_type": "stream",
     "text": [
      "We reject the Null Hypothesis with a pvalue 0.072463\n",
      "The Z Score is  1.457690263955363\n"
     ]
    }
   ],
   "source": [
    "compare_two_propotions(14,24,241,259,1, 0.1)"
   ]
  },
  {
   "cell_type": "code",
   "execution_count": 189,
   "metadata": {},
   "outputs": [
    {
     "name": "stdout",
     "output_type": "stream",
     "text": [
      "We fail to reject the Null Hypothesis with a pvalue 0.205903\n",
      "The Z Score is  -1.2649110640673513\n"
     ]
    }
   ],
   "source": [
    "compare_two_propotions(35,90,50,150,2, 0.05)"
   ]
  },
  {
   "cell_type": "code",
   "execution_count": 190,
   "metadata": {},
   "outputs": [
    {
     "name": "stdout",
     "output_type": "stream",
     "text": [
      "We fail to reject the Null Hypothesis with a pvalue 0.249000\n",
      "The Z Score is  1.152780835408471\n"
     ]
    }
   ],
   "source": [
    "compare_two_propotions(168,176,200,200,2,0.01)"
   ]
  },
  {
   "cell_type": "code",
   "execution_count": 191,
   "metadata": {},
   "outputs": [
    {
     "data": {
      "text/plain": [
       "1.6448536269514722"
      ]
     },
     "execution_count": 191,
     "metadata": {},
     "output_type": "execute_result"
    }
   ],
   "source": [
    "stats.norm.ppf(.95)"
   ]
  },
  {
   "cell_type": "markdown",
   "metadata": {},
   "source": [
    "### 2. Hypothesis Tests for the Difference in Two Means\n",
    "\n",
    "Conditions for Inference:  \n",
    "1) Random Sample (Both  samples are random)    \n",
    "2) Normal n>= 30 or if nort underlying dist is approx symmetrical and not skewed  \n",
    "3) Observations in sample are independant (Either done with replacement or less than 10% of population)\n",
    "\n",
    "Do not need 30 condition when dealing with proportions, we do for means\n",
    "\n",
    "\n",
    "When comparing means as opposed to proportion we do not know the population variances so instead we estimate them using the sample populations standard deviation. So we estimate the sd of the sd of the difference in means using  sqrt(s1^2/n1 + s2^2/n2) However once we use this estimate a critical z value is not as good as a critical t value.\n",
    "\n",
    "So the formula \n",
    "(X1- X2) +- t* sqrt(s1^2/n1 + s2^2/n2) \n",
    "degrees of freedom  = min(n1,n2) -1"
   ]
  },
  {
   "cell_type": "markdown",
   "metadata": {},
   "source": [
    "#### Example 3A Confidence Intervals\n",
    "\n",
    "Kylie suspects that when people exercide longer their body temps change. She finds the following  \n",
    "18 people who exercised for 30 mins had an average body temp of 38.3 (sd 0.27)  \n",
    "24 people who exercised for 60 mins had an average body temp of 38.9 (sd 0.29)\n",
    "\n",
    "We wish to calculate the 90% CI for the difference in mean body temp"
   ]
  },
  {
   "cell_type": "code",
   "execution_count": 192,
   "metadata": {},
   "outputs": [
    {
     "data": {
      "text/plain": [
       "(0.44880258736742723, 0.7511974126325756)"
      ]
     },
     "execution_count": 192,
     "metadata": {},
     "output_type": "execute_result"
    }
   ],
   "source": [
    "x1 = 38.3\n",
    "n1 = 18\n",
    "sd1 = 0.27\n",
    "\n",
    "x2 = 38.9\n",
    "n2 = 24\n",
    "sd2 = 0.29\n",
    "tail = 2\n",
    "conf =0.9\n",
    "se = np.sqrt(sd1**2/n1 + sd2**2/n2)\n",
    "df = min(n1,n2) -1\n",
    "\n",
    "if tail == 2:\n",
    "    q = (1+conf)/2\n",
    "else:\n",
    "    q= conf\n",
    "\n",
    "t = stats.t.ppf(q,df)\n",
    "CI = (x2-x1)-t*se, (x2-x1)+t*se\n",
    "\n",
    "CI"
   ]
  },
  {
   "cell_type": "markdown",
   "metadata": {},
   "source": [
    "### Hypothesis Test"
   ]
  },
  {
   "cell_type": "code",
   "execution_count": 193,
   "metadata": {},
   "outputs": [],
   "source": [
    "def compare_two_means(x1,x2,n1,n2,s1,s2,t, alpha):\n",
    "    \n",
    "\n",
    "    x21 = x2-x1\n",
    "    SE = np.sqrt((s1**2/n1 + s2**2/n2))\n",
    "    critical_t = x21/SE\n",
    "    #df = min(n1,n1) -1\n",
    "    df = (sd1**2/n1 + sd2**2/n2)**2/ ((1/(n1-1)*(sd1**2/n1)**2 + (1/(n2-1)*(sd2**2/n2)**2)))\n",
    "    p_val = t*stats.t.cdf(-np.abs(critical_t), df)\n",
    "    if p_val <= alpha:\n",
    "        print(\"We reject the Null Hypothesis with a pvalue {:2f}\".format(p_val))\n",
    "    else:\n",
    "        print(\"We fail to reject the Null Hypothesis with a pvalue {:2f}\".format(p_val))\n",
    "    \n",
    "    print (\"The t Score is \", critical_t)\n",
    "\n",
    "    return "
   ]
  },
  {
   "cell_type": "code",
   "execution_count": 194,
   "metadata": {},
   "outputs": [
    {
     "name": "stdout",
     "output_type": "stream",
     "text": [
      "We reject the Null Hypothesis with a pvalue 0.018774\n",
      "The t Score is  2.440263759933568\n"
     ]
    }
   ],
   "source": [
    "compare_two_means(1.3,1.6,22,24,0.5,0.3,2,.05)"
   ]
  },
  {
   "cell_type": "code",
   "execution_count": 280,
   "metadata": {},
   "outputs": [
    {
     "name": "stdout",
     "output_type": "stream",
     "text": [
      "We fail to reject the Null Hypothesis with a pvalue 0.361622\n",
      "The t Score is  0.9678111752325689\n"
     ]
    }
   ],
   "source": [
    "compare_two_means(168,172,5,5,5.4,7.5,2,.05)"
   ]
  },
  {
   "cell_type": "code",
   "execution_count": 195,
   "metadata": {},
   "outputs": [
    {
     "name": "stdout",
     "output_type": "stream",
     "text": [
      "We fail to reject the Null Hypothesis with a pvalue 0.106703\n",
      "The t Score is  1.6246827101404884\n"
     ]
    }
   ],
   "source": [
    "compare_two_means(116,120,65,65,13,15,2,.01)"
   ]
  },
  {
   "cell_type": "code",
   "execution_count": 196,
   "metadata": {},
   "outputs": [],
   "source": [
    "def ci_two_means(x1,x2,n1,n2,sd1,sd2,tail,conf):\n",
    "\n",
    "\n",
    "    se = np.sqrt((sd1**2/n1) + (sd2**2/n2))\n",
    "   #df = min(n1,n2) -1\n",
    "    \n",
    "    df = (sd1**2/n1 + sd2**2/n2)**2/ ((1/(n1-1)*(sd1**2/n1)**2 + (1/(n2-1)*(sd2**2/n2)**2)))\n",
    "                                                                 \n",
    "    print(\"df\",df)\n",
    "\n",
    "    if tail == 2:\n",
    "        q = (1+conf)/2\n",
    "    else:\n",
    "        q= conf\n",
    "\n",
    "    t = stats.t.ppf(q,df)\n",
    "    CI = round((x2-x1)-t*se,2), round((x2-x1)+t*se,2)\n",
    "    print(se,t, se*t)\n",
    "    return CI\n"
   ]
  },
  {
   "cell_type": "code",
   "execution_count": 197,
   "metadata": {},
   "outputs": [
    {
     "name": "stdout",
     "output_type": "stream",
     "text": [
      "df 125.46541055237036\n",
      "2.462019183828278 2.615583217219186 6.4396160576929224\n"
     ]
    },
    {
     "data": {
      "text/plain": [
       "(-2.44, 10.44)"
      ]
     },
     "execution_count": 197,
     "metadata": {},
     "output_type": "execute_result"
    }
   ],
   "source": [
    "# ci_two_means(120,116,65,65,15,13,2,.99)\n",
    "ci_two_means(116,120,65,65,13,15,2,.99)"
   ]
  },
  {
   "cell_type": "code",
   "execution_count": 198,
   "metadata": {},
   "outputs": [
    {
     "name": "stdout",
     "output_type": "stream",
     "text": [
      "df 10.264429114891628\n",
      "9.309821576044182 1.8077347222982187 16.829687721416196\n"
     ]
    },
    {
     "data": {
      "text/plain": [
       "(-15.33, 18.33)"
      ]
     },
     "execution_count": 198,
     "metadata": {},
     "output_type": "execute_result"
    }
   ],
   "source": [
    "ci_two_means(115.3,116.8,9,24,26.2,15.8,2,.90)"
   ]
  },
  {
   "cell_type": "code",
   "execution_count": 199,
   "metadata": {},
   "outputs": [
    {
     "name": "stdout",
     "output_type": "stream",
     "text": [
      "df 8.389516095670354\n",
      "2337.6320945614625 2.287500236945164 5347.333970199966\n"
     ]
    },
    {
     "data": {
      "text/plain": [
       "(-7418.33, 3276.33)"
      ]
     },
     "execution_count": 199,
     "metadata": {},
     "output_type": "execute_result"
    }
   ],
   "source": [
    "ci_two_means(11700,9629,6,7,4900,3200,2,.95)"
   ]
  },
  {
   "cell_type": "code",
   "execution_count": 200,
   "metadata": {},
   "outputs": [
    {
     "name": "stdout",
     "output_type": "stream",
     "text": [
      "We fail to reject the Null Hypothesis with a pvalue 0.145997\n",
      "The t Score is  -1.0593823774595397\n"
     ]
    }
   ],
   "source": [
    "compare_two_means(10.8,10.3,46,58,2.3,2.5,1,.01)"
   ]
  },
  {
   "cell_type": "markdown",
   "metadata": {},
   "source": [
    "### Power"
   ]
  },
  {
   "cell_type": "markdown",
   "metadata": {},
   "source": [
    "The test will calculate a p-value that can be interpreted as to whether the samples are the same (fail to reject the null hypothesis), or there is a statistically significant difference between the samples (reject the null hypothesis). A common significance level for interpreting the p-value is 5% or 0.05.\n",
    "\n",
    "**Significance level (alpha)**: 5% or 0.05.\n",
    "The size of the effect of comparing two groups can be quantified with an effect size measure. A common measure for comparing the difference in the mean from two groups is the Cohen’s d measure. It calculates a standard score that describes the difference in terms of the number of standard deviations that the means are different. A large effect size for Cohen’s d is 0.80 or higher, as is commonly accepted when using the measure.\n",
    "\n",
    "**Effect Size**: Cohen’s d of at least 0.80.\n",
    "We can use the default and assume a minimum statistical power of 80% or 0.8.\n",
    "\n",
    "**Statistical Power**: 80% or 0.80.\n",
    "For a given experiment with these defaults, we may be interested in estimating a suitable sample size. That is, how many observations are required from each sample in order to at least detect an effect of 0.80 with an 80% chance of detecting the effect if it is true (20% of a Type II error) and a 5% chance of detecting an effect if there is no such effect (Type I error).\n",
    "\n",
    "We can solve this using a power analysis.\n",
    "\n",
    "\n",
    "\n",
    "A note on sample size: the function has an argument called ratio that is the ratio of the number of samples in one sample to the other. If both samples are expected to have the same number of observations, then the ratio is 1.0. If, for example, the second sample is expected to have half as many observations, then the ratio would be 0.5."
   ]
  },
  {
   "cell_type": "code",
   "execution_count": 201,
   "metadata": {},
   "outputs": [
    {
     "name": "stdout",
     "output_type": "stream",
     "text": [
      "Sample Size: 63.766\n"
     ]
    }
   ],
   "source": [
    "from statsmodels.stats.power import TTestIndPower\n",
    "\n",
    "effect_size = 0.5\n",
    "alpha = 0.05\n",
    "power = 0.8\n",
    "# perform power analysis\n",
    "analysis = TTestIndPower()\n",
    "sample_size = analysis.solve_power(effect_size, power=power, nobs1=None, ratio=1.0, alpha=alpha)\n",
    "print('Sample Size: %.3f' % sample_size)"
   ]
  },
  {
   "cell_type": "code",
   "execution_count": 202,
   "metadata": {},
   "outputs": [
    {
     "data": {
      "text/plain": [
       "0.2222222222222222"
      ]
     },
     "execution_count": 202,
     "metadata": {},
     "output_type": "execute_result"
    }
   ],
   "source": [
    "(82-80)/9"
   ]
  },
  {
   "cell_type": "code",
   "execution_count": 203,
   "metadata": {},
   "outputs": [
    {
     "data": {
      "text/plain": [
       "0.0475"
      ]
     },
     "execution_count": 203,
     "metadata": {},
     "output_type": "execute_result"
    }
   ],
   "source": [
    ".05*.95 "
   ]
  },
  {
   "cell_type": "code",
   "execution_count": null,
   "metadata": {},
   "outputs": [],
   "source": []
  },
  {
   "cell_type": "code",
   "execution_count": null,
   "metadata": {},
   "outputs": [],
   "source": []
  },
  {
   "cell_type": "markdown",
   "metadata": {},
   "source": [
    "## 5 Chi Squared - Goodness of fit  How well does our observations fot against the expected values\n",
    "\n",
    "The chi-square goodness of fit test is appropriate when the following conditions are met: The sampling method is simple random sampling. The variable under study is categorical. The expected value ( Note expected NOT Observed) of the number of sample observations in each level of the variable is at least 5."
   ]
  },
  {
   "cell_type": "code",
   "execution_count": 235,
   "metadata": {},
   "outputs": [
    {
     "data": {
      "text/plain": [
       "Power_divergenceResult(statistic=8.88888888888889, pvalue=0.03080523378048964)"
      ]
     },
     "execution_count": 235,
     "metadata": {},
     "output_type": "execute_result"
    }
   ],
   "source": [
    "observed = np.array([75, 55, 15, 5])\n",
    "expected_ratio =  np.array([0.5, 0.3, 0.1, 0.1])\n",
    "expected = observed.sum()*expected_ratio\n",
    "stats.chisquare(observed, expected)"
   ]
  },
  {
   "cell_type": "markdown",
   "metadata": {},
   "source": [
    "Joe wondered whether the days of the week of health clinic appointments at his clinic had an even distribution from Monday through Friday, so he took a random sample of 500health clinic appointments and recorded their days of the week. Here are his results:  \n",
    "M 115  \n",
    "T 100  \n",
    "W 115  \n",
    "T 100  \n",
    "F 70  "
   ]
  },
  {
   "cell_type": "code",
   "execution_count": 252,
   "metadata": {},
   "outputs": [
    {
     "data": {
      "text/plain": [
       "Power_divergenceResult(statistic=13.5, pvalue=0.009074317061131603)"
      ]
     },
     "execution_count": 252,
     "metadata": {},
     "output_type": "execute_result"
    }
   ],
   "source": [
    "observed = np.array([115, 100, 115, 100, 70])\n",
    "expected_ratio =  np.array([0.2, 0.2, 0.2, 0.2, 0.2])\n",
    "expected = observed.sum()*expected_ratio\n",
    "stats.chisquare(observed, expected)\n",
    "\n"
   ]
  },
  {
   "cell_type": "markdown",
   "metadata": {},
   "source": [
    "We reject the null hypothesis that observed = expected as p value is below our significance alpha of 0.05"
   ]
  },
  {
   "cell_type": "code",
   "execution_count": 240,
   "metadata": {},
   "outputs": [
    {
     "data": {
      "text/plain": [
       "Power_divergenceResult(statistic=5.681818181818182, pvalue=0.05837257585823774)"
      ]
     },
     "execution_count": 240,
     "metadata": {},
     "output_type": "execute_result"
    }
   ],
   "source": [
    "observed = np.array([345,125,30])\n",
    "expected_ratio =  np.array([0.66, 0.25, 0.09])\n",
    "expected = observed.sum()*expected_ratio\n",
    "stats.chisquare(observed, expected)"
   ]
  },
  {
   "cell_type": "code",
   "execution_count": 241,
   "metadata": {},
   "outputs": [
    {
     "data": {
      "text/plain": [
       "Power_divergenceResult(statistic=10.5, pvalue=0.014760897143990665)"
      ]
     },
     "execution_count": 241,
     "metadata": {},
     "output_type": "execute_result"
    }
   ],
   "source": [
    "observed = np.array([75,120,90,15])\n",
    "expected_ratio =  np.array([0.25,0.40,  0.25, 0.10])\n",
    "expected = observed.sum()*expected_ratio\n",
    "stats.chisquare(observed, expected)"
   ]
  },
  {
   "cell_type": "code",
   "execution_count": 276,
   "metadata": {},
   "outputs": [
    {
     "data": {
      "text/plain": [
       "Power_divergenceResult(statistic=4.0, pvalue=0.40600584970983794)"
      ]
     },
     "execution_count": 276,
     "metadata": {},
     "output_type": "execute_result"
    }
   ],
   "source": [
    "observed = np.array([12,4,20,36,8])\n",
    "expected_ratio =  np.array([0.1,0.1,0.25,0.45, 0.10])\n",
    "expected = observed.sum()*expected_ratio\n",
    "stats.chisquare(observed, expected)"
   ]
  },
  {
   "cell_type": "markdown",
   "metadata": {},
   "source": [
    "## 5 Chi Squared - Homogenity\n",
    "\n",
    "If we are testing multiple samles then we are comparing homeogenity. If  it is the same sample but with digfferent attributes e.g. age then we are testing for independance\n",
    "\n",
    "**Homogenity:**   A high chi square results in a lower p value if the p value is below the significance level then we can conclude that the distributions are different\n",
    "**Independance:** A high chi square results in a lower p value if the p value is below the significance level then we can conclude that thir is dependance\n",
    "\n",
    "\n",
    "\n",
    "\n",
    "\n",
    "Age|Alerts|No alerts|Total|\n",
    "----|---|----|----|\n",
    "0-29|48|64|112|\n",
    "    |56|56||\n",
    "30-59|33|27|60|\n",
    "    |30|30||\n",
    "60+|19|9|28|\n",
    "    |14|14||\n",
    "Total|100|100|200|\n",
    "\n",
    "They want to use these results to carry out a \\chi^2χ \n",
    "2\n",
    " \\chi, squared test for homogeneity. Assume that all conditions for inference were met.\n",
    "\n",
    "\n",
    "\n",
    "\n",
    "\n",
    "\n"
   ]
  },
  {
   "cell_type": "code",
   "execution_count": 262,
   "metadata": {},
   "outputs": [
    {
     "name": "stdout",
     "output_type": "stream",
     "text": [
      "chisq is 6.457142857142857\n",
      "p value is 0.03961404988497645\n",
      "Distributions are different (reject H0)\n"
     ]
    }
   ],
   "source": [
    "observed = [[48,33,19], [64,27,9]]\n",
    "observed\n",
    "stat, p, dof, expected = stats.chi2_contingency(observed=observed)\n",
    "print(\"chisq is\", stat) \n",
    "# interpret p-value\n",
    "alpha = 0.05\n",
    "print(\"p value is \" + str(p))\n",
    "if p <= alpha:\n",
    "    print('Distributions are different (reject H0)')\n",
    "else:\n",
    "    print('Distributions are similar (H0 holds true)')"
   ]
  },
  {
   "cell_type": "code",
   "execution_count": 263,
   "metadata": {},
   "outputs": [
    {
     "name": "stdout",
     "output_type": "stream",
     "text": [
      "chisq is 1.966296653796654\n",
      "p value is 0.5794313456996103\n",
      "Distributions are similar (H0 holds true)\n"
     ]
    }
   ],
   "source": [
    "observed = [[6,9,15,6], [78,55,133,58]]\n",
    "observed\n",
    "stat, p, dof, expected = stats.chi2_contingency(observed=observed)\n",
    "print(\"chisq is\", stat) \n",
    "# interpret p-value\n",
    "alpha = 0.05\n",
    "print(\"p value is \" + str(p))\n",
    "if p <= alpha:\n",
    "    print('Distributions are different (reject H0)')\n",
    "else:\n",
    "    print('Distributions are similar (H0 holds true)')"
   ]
  },
  {
   "cell_type": "code",
   "execution_count": 269,
   "metadata": {},
   "outputs": [
    {
     "name": "stdout",
     "output_type": "stream",
     "text": [
      "chisq is 13.964450883971432\n",
      "p value is 0.0074093823852925695\n",
      "Distributions are different (reject H0)\n"
     ]
    }
   ],
   "source": [
    "observed = [[203,117,45], [77,36,7], [50,12,3]]\n",
    "observed\n",
    "stat, p, dof, expected = stats.chi2_contingency(observed=observed)\n",
    "print(\"chisq is\", stat) \n",
    "# interpret p-value\n",
    "alpha = 0.05\n",
    "print(\"p value is \" + str(p))\n",
    "if p <= alpha:\n",
    "    print('Distributions are different (reject H0)')\n",
    "else:\n",
    "    print('Distributions are similar (H0 holds true)')\n",
    "    \n"
   ]
  },
  {
   "cell_type": "code",
   "execution_count": 270,
   "metadata": {},
   "outputs": [
    {
     "name": "stdout",
     "output_type": "stream",
     "text": [
      "chisq is 5.158730158730159\n",
      "p value is 0.07582212977799092\n",
      "Distributions are similar (H0 holds true)\n"
     ]
    }
   ],
   "source": [
    "observed = [[30,20], [25,5], [15,5]]\n",
    "observed\n",
    "stat, p, dof, expected = stats.chi2_contingency(observed=observed)\n",
    "print(\"chisq is\", stat) \n",
    "# interpret p-value\n",
    "alpha = 0.05\n",
    "print(\"p value is \" + str(p))\n",
    "if p <= alpha:\n",
    "    print('Distributions are different (reject H0)')\n",
    "else:\n",
    "    print('Distributions are similar (H0 holds true)')"
   ]
  },
  {
   "cell_type": "code",
   "execution_count": 272,
   "metadata": {},
   "outputs": [
    {
     "name": "stdout",
     "output_type": "stream",
     "text": [
      "chisq is 6.621232404364934\n",
      "p value is 0.1573102454361324\n",
      "Distributions are similar (H0 holds true)\n"
     ]
    }
   ],
   "source": [
    "observed = [[6,10,20], [20,13,33], [94,97,307]]\n",
    "observed\n",
    "stat, p, dof, expected = stats.chi2_contingency(observed=observed)\n",
    "print(\"chisq is\", stat) \n",
    "# interpret p-value\n",
    "alpha = 0.05\n",
    "print(\"p value is \" + str(p))\n",
    "if p <= alpha:\n",
    "    print('Distributions are different (reject H0)')\n",
    "else:\n",
    "    print('Distributions are similar (H0 holds true)')"
   ]
  },
  {
   "cell_type": "code",
   "execution_count": 273,
   "metadata": {},
   "outputs": [
    {
     "name": "stdout",
     "output_type": "stream",
     "text": [
      "chisq is 4.327876984126984\n",
      "p value is 0.11487180723651062\n",
      "Distributions are similar (H0 holds true)\n"
     ]
    }
   ],
   "source": [
    "observed = [[38,162], [7,53], [3,37]]\n",
    "observed\n",
    "stat, p, dof, expected = stats.chi2_contingency(observed=observed)\n",
    "print(\"chisq is\", stat) \n",
    "# interpret p-value\n",
    "alpha = 0.05\n",
    "print(\"p value is \" + str(p))\n",
    "if p <= alpha:\n",
    "    print('Distributions are different (reject H0)')\n",
    "else:\n",
    "    print('Distributions are similar (H0 holds true)')"
   ]
  },
  {
   "cell_type": "code",
   "execution_count": 278,
   "metadata": {},
   "outputs": [
    {
     "name": "stdout",
     "output_type": "stream",
     "text": [
      "chisq is 3.057304277643261\n",
      "p value is 0.21682772411751125\n",
      "Distributions are similar (H0 holds true)\n"
     ]
    }
   ],
   "source": [
    "observed = [[28,10,12], [31,4,15]]\n",
    "observed\n",
    "stat, p, dof, expected = stats.chi2_contingency(observed=observed)\n",
    "print(\"chisq is\", stat) \n",
    "# interpret p-value\n",
    "alpha = 0.05\n",
    "print(\"p value is \" + str(p))\n",
    "if p <= alpha:\n",
    "    print('Distributions are different (reject H0)')\n",
    "else:\n",
    "    print('Distributions are similar (H0 holds true)')"
   ]
  },
  {
   "cell_type": "code",
   "execution_count": 299,
   "metadata": {},
   "outputs": [
    {
     "data": {
      "text/plain": [
       "0.2833503896013885"
      ]
     },
     "execution_count": 299,
     "metadata": {},
     "output_type": "execute_result"
    }
   ],
   "source": [
    "\n",
    "m = 76.55\n",
    "s = 5\n",
    "x1 = (79-m)/s\n",
    "x2 = (86.05 -m)/s\n",
    "norm_cdf1 = stats.norm.cdf(x1)\n",
    "norm_cdf2 = stats.norm.cdf(x2)\n",
    "norm_cdf2 - norm_cdf1\n",
    "\n"
   ]
  },
  {
   "cell_type": "code",
   "execution_count": 284,
   "metadata": {},
   "outputs": [
    {
     "data": {
      "text/plain": [
       "0.017864420562816542"
      ]
     },
     "execution_count": 284,
     "metadata": {},
     "output_type": "execute_result"
    }
   ],
   "source": [
    "norm_cdf2"
   ]
  },
  {
   "cell_type": "code",
   "execution_count": 286,
   "metadata": {},
   "outputs": [
    {
     "data": {
      "text/plain": [
       "0.600047001626136"
      ]
     },
     "execution_count": 286,
     "metadata": {},
     "output_type": "execute_result"
    }
   ],
   "source": [
    "norm_cdf1- norm_cdf2"
   ]
  },
  {
   "cell_type": "code",
   "execution_count": 292,
   "metadata": {},
   "outputs": [
    {
     "data": {
      "text/plain": [
       "122.1649954007934"
      ]
     },
     "execution_count": 292,
     "metadata": {},
     "output_type": "execute_result"
    }
   ],
   "source": [
    "\n",
    "\n",
    "m = 85\n",
    "sd = 29  \n",
    "\n",
    "z = stats.norm.ppf(0.9)\n",
    "z*sd + m"
   ]
  },
  {
   "cell_type": "code",
   "execution_count": null,
   "metadata": {},
   "outputs": [],
   "source": []
  }
 ],
 "metadata": {
  "kernelspec": {
   "display_name": "Python [conda env:ads033]",
   "language": "python",
   "name": "conda-env-ads033-py"
  },
  "language_info": {
   "codemirror_mode": {
    "name": "ipython",
    "version": 3
   },
   "file_extension": ".py",
   "mimetype": "text/x-python",
   "name": "python",
   "nbconvert_exporter": "python",
   "pygments_lexer": "ipython3",
   "version": "3.6.7"
  }
 },
 "nbformat": 4,
 "nbformat_minor": 4
}
