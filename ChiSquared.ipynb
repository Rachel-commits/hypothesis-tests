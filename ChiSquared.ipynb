{
 "cells": [
  {
   "cell_type": "markdown",
   "metadata": {},
   "source": [
    "# Hypothesis Testing - Part 3. Chi Squared\n",
    "\n",
    "\n",
    "\n",
    "**Assumptions**  \n",
    "\n",
    "\n",
    "The following Resources have been used:  \n",
    "\n",
    "\n",
    "*This notebook is from a series on Hypothesis Testing* \n",
    "1. *Hypothesis Testing - Comparing Proportions (z test)*\n",
    "2. *Hypothesis Testing - Comparing Means (t test)*  \n",
    "3. ***Hypothesis Testing - Chi Sq***  \n",
    "4. *Hypothesis Testing - ANOVA*  "
   ]
  },
  {
   "cell_type": "markdown",
   "metadata": {},
   "source": [
    "#### Libraries"
   ]
  },
  {
   "cell_type": "code",
   "execution_count": 35,
   "metadata": {},
   "outputs": [],
   "source": [
    "import numpy as np\n",
    "import pandas as pd\n",
    "from scipy import stats\n",
    "from sklearn import datasets"
   ]
  },
  {
   "cell_type": "code",
   "execution_count": null,
   "metadata": {},
   "outputs": [],
   "source": []
  },
  {
   "cell_type": "markdown",
   "metadata": {},
   "source": [
    "## 1. Chi Squared - Goodness of fit  \n",
    "#### How well does our observations fit against the expected values\n",
    "\n",
    "The chi-square goodness of fit test is appropriate when the following conditions are met: \n",
    "1. The sampling method is simple random sampling. \n",
    "2. The variable under study is categorical. The expected value ( Note expected NOT Observed) of the number of sample observations in each level of the variable is at least 5."
   ]
  },
  {
   "cell_type": "markdown",
   "metadata": {},
   "source": [
    "#### Example"
   ]
  },
  {
   "cell_type": "markdown",
   "metadata": {},
   "source": [
    "Joe wondered whether the days of the week of health clinic appointments at his clinic had an even distribution from Monday through Friday, so he took a random sample of 500health clinic appointments and recorded their days of the week. Here are his results:\n",
    "\n",
    "|Day|Appointments|\n",
    "|---|---|\n",
    "M |115  \n",
    "T |100  \n",
    "W |115  \n",
    "T |100  \n",
    "F |70  "
   ]
  },
  {
   "cell_type": "code",
   "execution_count": 36,
   "metadata": {},
   "outputs": [
    {
     "name": "stdout",
     "output_type": "stream",
     "text": [
      "Chisq stat: 13.5000 pvalue: 0.0091\n",
      "Reject the H0: Data does not appear to come from the specified distribution\n"
     ]
    }
   ],
   "source": [
    "# set alpha = 0.05\n",
    "alpha = 0.05\n",
    "\n",
    "observed = np.array([115, 100, 115, 100, 70])\n",
    "#observed = np.array([115, 117, 115, 115, 110])\n",
    "expected_ratio =  np.array([0.2, 0.2, 0.2, 0.2, 0.2])\n",
    "expected = observed.sum()*expected_ratio\n",
    "\n",
    "chisq, p = stats.chisquare(observed, expected)\n",
    "\n",
    "print(\"Chisq stat: {:.4f} pvalue: {:.4f}\".format(chisq,p))\n",
    "if p <= alpha:\n",
    "    print('Reject the H0: Data does not appear to come from the specified distribution')\n",
    "else:\n",
    "    print('Fail to reject H0: Data comes from specified distributions)')"
   ]
  },
  {
   "cell_type": "markdown",
   "metadata": {},
   "source": [
    "## 2. Chi Squared - Homogenity\n",
    "\n",
    "If we are testing multiple samples then we are comparing homeogenity. If  it is the same sample but with different attributes e.g. age then we are testing for independance\n",
    "\n",
    "**Homogenity:**   A high chi square results in a lower p value if the p value is below the significance level then we can conclude that the distributions are different\n",
    "**Independance:** A high chi square results in a lower p value if the p value is below the significance level then we can conclude that there is dependance"
   ]
  },
  {
   "cell_type": "markdown",
   "metadata": {},
   "source": [
    "#### Example"
   ]
  },
  {
   "cell_type": "markdown",
   "metadata": {},
   "source": [
    "Age|Alerts|No alerts|Total|\n",
    "----|---|----|----|\n",
    "0-29|48|64|112|\n",
    "    |56|56||\n",
    "30-59|33|27|60|\n",
    "    |30|30||\n",
    "60+|19|9|28|\n",
    "    |14|14||\n",
    "Total|100|100|200|\n",
    "\n",
    "They want to use these results to carry out a chi squared test for homogeneity. Assume that all conditions for inference were met."
   ]
  },
  {
   "cell_type": "code",
   "execution_count": 37,
   "metadata": {},
   "outputs": [
    {
     "name": "stdout",
     "output_type": "stream",
     "text": [
      "chisq is 6.4571\n",
      "p value is  0.0396\n",
      "Distributions are different (reject H0)\n"
     ]
    }
   ],
   "source": [
    "observed = [[48,33,19], [64,27,9]]\n",
    "observed\n",
    "stat, p, dof, expected = stats.chi2_contingency(observed=observed)\n",
    "print(\"chisq is {:.4f}\".format(stat)) \n",
    "# interpret p-value\n",
    "alpha = 0.05\n",
    "print(\"p value is  {:.4f}\".format(p)) \n",
    "if p <= alpha:\n",
    "    print('Distributions are different (reject H0)')\n",
    "else:\n",
    "    print('Distributions are similar (H0 holds true)')"
   ]
  },
  {
   "cell_type": "code",
   "execution_count": 38,
   "metadata": {},
   "outputs": [
    {
     "name": "stdout",
     "output_type": "stream",
     "text": [
      "chisq is 1.9663\n",
      "p value is  0.5794\n",
      "Distributions are similar (H0 holds true)\n"
     ]
    }
   ],
   "source": [
    "observed = [[6,9,15,6], [78,55,133,58]]\n",
    "observed\n",
    "stat, p, dof, expected = stats.chi2_contingency(observed=observed)\n",
    "print(\"chisq is {:.4f}\".format(stat)) \n",
    "# interpret p-value\n",
    "alpha = 0.05\n",
    "print(\"p value is  {:.4f}\".format(p)) \n",
    "if p <= alpha:\n",
    "    print('Distributions are different (reject H0)')\n",
    "else:\n",
    "    print('Distributions are similar (H0 holds true)')"
   ]
  },
  {
   "cell_type": "markdown",
   "metadata": {},
   "source": [
    "## 3. Chi Squared - Independance"
   ]
  },
  {
   "cell_type": "markdown",
   "metadata": {},
   "source": [
    "$H_0$ - Independant  \n",
    "$H_1$ - Not independant"
   ]
  },
  {
   "cell_type": "code",
   "execution_count": 39,
   "metadata": {},
   "outputs": [
    {
     "data": {
      "text/html": [
       "<div>\n",
       "<style scoped>\n",
       "    .dataframe tbody tr th:only-of-type {\n",
       "        vertical-align: middle;\n",
       "    }\n",
       "\n",
       "    .dataframe tbody tr th {\n",
       "        vertical-align: top;\n",
       "    }\n",
       "\n",
       "    .dataframe thead th {\n",
       "        text-align: right;\n",
       "    }\n",
       "</style>\n",
       "<table border=\"1\" class=\"dataframe\">\n",
       "  <thead>\n",
       "    <tr style=\"text-align: right;\">\n",
       "      <th></th>\n",
       "      <th>Red</th>\n",
       "      <th>Blue</th>\n",
       "      <th>Green</th>\n",
       "    </tr>\n",
       "  </thead>\n",
       "  <tbody>\n",
       "    <tr>\n",
       "      <th>Child</th>\n",
       "      <td>25</td>\n",
       "      <td>46</td>\n",
       "      <td>15</td>\n",
       "    </tr>\n",
       "    <tr>\n",
       "      <th>Young_Adult</th>\n",
       "      <td>15</td>\n",
       "      <td>44</td>\n",
       "      <td>15</td>\n",
       "    </tr>\n",
       "    <tr>\n",
       "      <th>Older_Adult</th>\n",
       "      <td>10</td>\n",
       "      <td>10</td>\n",
       "      <td>20</td>\n",
       "    </tr>\n",
       "  </tbody>\n",
       "</table>\n",
       "</div>"
      ],
      "text/plain": [
       "             Red  Blue  Green\n",
       "Child         25    46     15\n",
       "Young_Adult   15    44     15\n",
       "Older_Adult   10    10     20"
      ]
     },
     "execution_count": 39,
     "metadata": {},
     "output_type": "execute_result"
    }
   ],
   "source": [
    "fave_colour = pd.DataFrame(\n",
    "    [\n",
    "        [25,46,15],\n",
    "        [15,44,15],\n",
    "        [10,10,20]\n",
    "    ],\n",
    "    index=['Child','Young_Adult','Older_Adult'],\n",
    "    columns=['Red','Blue','Green'])\n",
    "fave_colour"
   ]
  },
  {
   "cell_type": "code",
   "execution_count": 40,
   "metadata": {},
   "outputs": [
    {
     "name": "stdout",
     "output_type": "stream",
     "text": [
      "chisq is 20.3928\n",
      "p value is  0.0004\n",
      "Distributions are not independant (reject H0)\n"
     ]
    }
   ],
   "source": [
    "stat, p, dof, expected = stats.chi2_contingency(observed=fave_colour)\n",
    "print(\"chisq is {:.4f}\".format(stat)) \n",
    "# interpret p-value\n",
    "alpha = 0.05\n",
    "print(\"p value is  {:.4f}\".format(p)) \n",
    "if p <= alpha:\n",
    "    print('Distributions are not independant (reject H0)')\n",
    "else:\n",
    "    print('Distributions are Independant (H0 holds true)')"
   ]
  },
  {
   "cell_type": "code",
   "execution_count": 41,
   "metadata": {},
   "outputs": [
    {
     "data": {
      "text/html": [
       "<div>\n",
       "<style scoped>\n",
       "    .dataframe tbody tr th:only-of-type {\n",
       "        vertical-align: middle;\n",
       "    }\n",
       "\n",
       "    .dataframe tbody tr th {\n",
       "        vertical-align: top;\n",
       "    }\n",
       "\n",
       "    .dataframe thead th {\n",
       "        text-align: right;\n",
       "    }\n",
       "</style>\n",
       "<table border=\"1\" class=\"dataframe\">\n",
       "  <thead>\n",
       "    <tr style=\"text-align: right;\">\n",
       "      <th></th>\n",
       "      <th>choc</th>\n",
       "      <th>crisps</th>\n",
       "      <th>fruit</th>\n",
       "    </tr>\n",
       "  </thead>\n",
       "  <tbody>\n",
       "    <tr>\n",
       "      <th>Child</th>\n",
       "      <td>20</td>\n",
       "      <td>40</td>\n",
       "      <td>50</td>\n",
       "    </tr>\n",
       "    <tr>\n",
       "      <th>Young_Adult</th>\n",
       "      <td>10</td>\n",
       "      <td>21</td>\n",
       "      <td>27</td>\n",
       "    </tr>\n",
       "    <tr>\n",
       "      <th>Older_Adult</th>\n",
       "      <td>4</td>\n",
       "      <td>8</td>\n",
       "      <td>11</td>\n",
       "    </tr>\n",
       "  </tbody>\n",
       "</table>\n",
       "</div>"
      ],
      "text/plain": [
       "             choc  crisps  fruit\n",
       "Child          20      40     50\n",
       "Young_Adult    10      21     27\n",
       "Older_Adult     4       8     11"
      ]
     },
     "execution_count": 41,
     "metadata": {},
     "output_type": "execute_result"
    }
   ],
   "source": [
    "fave_snack = pd.DataFrame(\n",
    "    [\n",
    "        [20,40,50],\n",
    "        [10,21,27],\n",
    "        [4,8,11]\n",
    "    ],\n",
    "    index=['Child','Young_Adult','Older_Adult'],\n",
    "    columns=['choc','crisps','fruit'])\n",
    "fave_snack"
   ]
  },
  {
   "cell_type": "code",
   "execution_count": 42,
   "metadata": {},
   "outputs": [
    {
     "name": "stdout",
     "output_type": "stream",
     "text": [
      "chisq is 0.0620\n",
      "p value is  0.9995\n",
      "Distributions are Independant (H0 holds true)\n"
     ]
    }
   ],
   "source": [
    "stat, p, dof, expected = stats.chi2_contingency(observed=fave_snack)\n",
    "print(\"chisq is {:.4f}\".format(stat)) \n",
    "# interpret p-value\n",
    "alpha = 0.05\n",
    "print(\"p value is  {:.4f}\".format(p)) \n",
    "if p <= alpha:\n",
    "    print('Distributions are not independant (reject H0)')\n",
    "else:\n",
    "    print('Distributions are Independant (H0 holds true)')"
   ]
  },
  {
   "cell_type": "code",
   "execution_count": null,
   "metadata": {},
   "outputs": [],
   "source": []
  },
  {
   "cell_type": "code",
   "execution_count": null,
   "metadata": {},
   "outputs": [],
   "source": []
  }
 ],
 "metadata": {
  "kernelspec": {
   "display_name": "Python [conda env:ads033]",
   "language": "python",
   "name": "conda-env-ads033-py"
  },
  "language_info": {
   "codemirror_mode": {
    "name": "ipython",
    "version": 3
   },
   "file_extension": ".py",
   "mimetype": "text/x-python",
   "name": "python",
   "nbconvert_exporter": "python",
   "pygments_lexer": "ipython3",
   "version": "3.6.7"
  }
 },
 "nbformat": 4,
 "nbformat_minor": 4
}
