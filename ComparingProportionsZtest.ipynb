{
 "cells": [
  {
   "cell_type": "markdown",
   "metadata": {},
   "source": [
    "# Hypothesis Testing - Part 1. Comparing Proportions (z test)\n",
    "\n",
    "The ANOVA of Test is a hypothesis test typically used to determine if 3 or more means are different.\n",
    "\n",
    "**Assumptions**  \n",
    "\n",
    "Conditions for Inference:  \n",
    "1) Random Sample (Both  samples are random)    \n",
    "2) np1 > 10 n(1-p1) > 10 np2 > 10 n(1-p2) > 10  \n",
    "3) Observations in sample are independant (Either done with replacement or less than 10% of population)\n",
    "\n",
    "Do not need 30 condition when dealing with proportions, we do for means\n",
    "\n",
    "\n",
    "**Hypothesis**  \n",
    "**Null:** Proprtions are equal.  \n",
    "**Alternative:** Proportions are not equal (two tailed) / Proprtions are > or < (one tailed)\n",
    "\n",
    "If the p value is less than the significance level then we can reject the null hypothesis.\n",
    "\n",
    "\n",
    "The following Resources have been used:  \n",
    "\n",
    "\n",
    "*This notebook is from a series on Hypothesis Testing* \n",
    "1. ***Hypothesis Testing - Comparing Proportions (z test)***\n",
    "2. *Hypothesis Testing - Comparing Means (t test)*  \n",
    "3. *Hypothesis Testing - Chi Sq*  \n",
    "4. *Hypothesis Testing - ANOVA*  "
   ]
  },
  {
   "cell_type": "markdown",
   "metadata": {},
   "source": [
    "#### Libraries"
   ]
  },
  {
   "cell_type": "code",
   "execution_count": 197,
   "metadata": {},
   "outputs": [],
   "source": [
    "import numpy as np\n",
    "import pandas as pd\n",
    "from scipy import stats\n",
    "from sklearn import datasets"
   ]
  },
  {
   "cell_type": "markdown",
   "metadata": {},
   "source": [
    "#### Import the data \n",
    "Here we are using the stroke data set from kaggle"
   ]
  },
  {
   "cell_type": "code",
   "execution_count": 198,
   "metadata": {},
   "outputs": [
    {
     "data": {
      "text/html": [
       "<div>\n",
       "<style scoped>\n",
       "    .dataframe tbody tr th:only-of-type {\n",
       "        vertical-align: middle;\n",
       "    }\n",
       "\n",
       "    .dataframe tbody tr th {\n",
       "        vertical-align: top;\n",
       "    }\n",
       "\n",
       "    .dataframe thead th {\n",
       "        text-align: right;\n",
       "    }\n",
       "</style>\n",
       "<table border=\"1\" class=\"dataframe\">\n",
       "  <thead>\n",
       "    <tr style=\"text-align: right;\">\n",
       "      <th></th>\n",
       "      <th>id</th>\n",
       "      <th>gender</th>\n",
       "      <th>age</th>\n",
       "      <th>hypertension</th>\n",
       "      <th>heart_disease</th>\n",
       "      <th>ever_married</th>\n",
       "      <th>work_type</th>\n",
       "      <th>Residence_type</th>\n",
       "      <th>avg_glucose_level</th>\n",
       "      <th>bmi</th>\n",
       "      <th>smoking_status</th>\n",
       "      <th>stroke</th>\n",
       "    </tr>\n",
       "  </thead>\n",
       "  <tbody>\n",
       "    <tr>\n",
       "      <th>0</th>\n",
       "      <td>9046</td>\n",
       "      <td>Male</td>\n",
       "      <td>67.0</td>\n",
       "      <td>0</td>\n",
       "      <td>1</td>\n",
       "      <td>Yes</td>\n",
       "      <td>Private</td>\n",
       "      <td>Urban</td>\n",
       "      <td>228.69</td>\n",
       "      <td>36.6</td>\n",
       "      <td>formerly smoked</td>\n",
       "      <td>1</td>\n",
       "    </tr>\n",
       "    <tr>\n",
       "      <th>1</th>\n",
       "      <td>51676</td>\n",
       "      <td>Female</td>\n",
       "      <td>61.0</td>\n",
       "      <td>0</td>\n",
       "      <td>0</td>\n",
       "      <td>Yes</td>\n",
       "      <td>Self-employed</td>\n",
       "      <td>Rural</td>\n",
       "      <td>202.21</td>\n",
       "      <td>NaN</td>\n",
       "      <td>never smoked</td>\n",
       "      <td>1</td>\n",
       "    </tr>\n",
       "    <tr>\n",
       "      <th>2</th>\n",
       "      <td>31112</td>\n",
       "      <td>Male</td>\n",
       "      <td>80.0</td>\n",
       "      <td>0</td>\n",
       "      <td>1</td>\n",
       "      <td>Yes</td>\n",
       "      <td>Private</td>\n",
       "      <td>Rural</td>\n",
       "      <td>105.92</td>\n",
       "      <td>32.5</td>\n",
       "      <td>never smoked</td>\n",
       "      <td>1</td>\n",
       "    </tr>\n",
       "    <tr>\n",
       "      <th>3</th>\n",
       "      <td>60182</td>\n",
       "      <td>Female</td>\n",
       "      <td>49.0</td>\n",
       "      <td>0</td>\n",
       "      <td>0</td>\n",
       "      <td>Yes</td>\n",
       "      <td>Private</td>\n",
       "      <td>Urban</td>\n",
       "      <td>171.23</td>\n",
       "      <td>34.4</td>\n",
       "      <td>smokes</td>\n",
       "      <td>1</td>\n",
       "    </tr>\n",
       "    <tr>\n",
       "      <th>4</th>\n",
       "      <td>1665</td>\n",
       "      <td>Female</td>\n",
       "      <td>79.0</td>\n",
       "      <td>1</td>\n",
       "      <td>0</td>\n",
       "      <td>Yes</td>\n",
       "      <td>Self-employed</td>\n",
       "      <td>Rural</td>\n",
       "      <td>174.12</td>\n",
       "      <td>24.0</td>\n",
       "      <td>never smoked</td>\n",
       "      <td>1</td>\n",
       "    </tr>\n",
       "  </tbody>\n",
       "</table>\n",
       "</div>"
      ],
      "text/plain": [
       "      id  gender   age  hypertension  heart_disease ever_married  \\\n",
       "0   9046    Male  67.0             0              1          Yes   \n",
       "1  51676  Female  61.0             0              0          Yes   \n",
       "2  31112    Male  80.0             0              1          Yes   \n",
       "3  60182  Female  49.0             0              0          Yes   \n",
       "4   1665  Female  79.0             1              0          Yes   \n",
       "\n",
       "       work_type Residence_type  avg_glucose_level   bmi   smoking_status  \\\n",
       "0        Private          Urban             228.69  36.6  formerly smoked   \n",
       "1  Self-employed          Rural             202.21   NaN     never smoked   \n",
       "2        Private          Rural             105.92  32.5     never smoked   \n",
       "3        Private          Urban             171.23  34.4           smokes   \n",
       "4  Self-employed          Rural             174.12  24.0     never smoked   \n",
       "\n",
       "   stroke  \n",
       "0       1  \n",
       "1       1  \n",
       "2       1  \n",
       "3       1  \n",
       "4       1  "
      ]
     },
     "execution_count": 198,
     "metadata": {},
     "output_type": "execute_result"
    }
   ],
   "source": [
    "stroke = pd.read_csv('./data/healthcare-dataset-stroke-data.csv')\n",
    "stroke.head()"
   ]
  },
  {
   "cell_type": "code",
   "execution_count": 199,
   "metadata": {},
   "outputs": [
    {
     "name": "stdout",
     "output_type": "stream",
     "text": [
      "The proportion of patients having a stroke is 4.87%\n",
      "The total of number of patients having a stroke is 249\n"
     ]
    },
    {
     "data": {
      "text/html": [
       "<div>\n",
       "<style scoped>\n",
       "    .dataframe tbody tr th:only-of-type {\n",
       "        vertical-align: middle;\n",
       "    }\n",
       "\n",
       "    .dataframe tbody tr th {\n",
       "        vertical-align: top;\n",
       "    }\n",
       "\n",
       "    .dataframe thead th {\n",
       "        text-align: right;\n",
       "    }\n",
       "</style>\n",
       "<table border=\"1\" class=\"dataframe\">\n",
       "  <thead>\n",
       "    <tr style=\"text-align: right;\">\n",
       "      <th></th>\n",
       "      <th>id</th>\n",
       "      <th>age</th>\n",
       "      <th>hypertension</th>\n",
       "      <th>heart_disease</th>\n",
       "      <th>avg_glucose_level</th>\n",
       "      <th>bmi</th>\n",
       "      <th>stroke</th>\n",
       "    </tr>\n",
       "  </thead>\n",
       "  <tbody>\n",
       "    <tr>\n",
       "      <th>count</th>\n",
       "      <td>5110.000000</td>\n",
       "      <td>5110.000000</td>\n",
       "      <td>5110.000000</td>\n",
       "      <td>5110.000000</td>\n",
       "      <td>5110.000000</td>\n",
       "      <td>4909.000000</td>\n",
       "      <td>5110.000000</td>\n",
       "    </tr>\n",
       "    <tr>\n",
       "      <th>mean</th>\n",
       "      <td>36517.829354</td>\n",
       "      <td>43.226614</td>\n",
       "      <td>0.097456</td>\n",
       "      <td>0.054012</td>\n",
       "      <td>106.147677</td>\n",
       "      <td>28.893237</td>\n",
       "      <td>0.048728</td>\n",
       "    </tr>\n",
       "    <tr>\n",
       "      <th>std</th>\n",
       "      <td>21161.721625</td>\n",
       "      <td>22.612647</td>\n",
       "      <td>0.296607</td>\n",
       "      <td>0.226063</td>\n",
       "      <td>45.283560</td>\n",
       "      <td>7.854067</td>\n",
       "      <td>0.215320</td>\n",
       "    </tr>\n",
       "    <tr>\n",
       "      <th>min</th>\n",
       "      <td>67.000000</td>\n",
       "      <td>0.080000</td>\n",
       "      <td>0.000000</td>\n",
       "      <td>0.000000</td>\n",
       "      <td>55.120000</td>\n",
       "      <td>10.300000</td>\n",
       "      <td>0.000000</td>\n",
       "    </tr>\n",
       "    <tr>\n",
       "      <th>25%</th>\n",
       "      <td>17741.250000</td>\n",
       "      <td>25.000000</td>\n",
       "      <td>0.000000</td>\n",
       "      <td>0.000000</td>\n",
       "      <td>77.245000</td>\n",
       "      <td>23.500000</td>\n",
       "      <td>0.000000</td>\n",
       "    </tr>\n",
       "    <tr>\n",
       "      <th>50%</th>\n",
       "      <td>36932.000000</td>\n",
       "      <td>45.000000</td>\n",
       "      <td>0.000000</td>\n",
       "      <td>0.000000</td>\n",
       "      <td>91.885000</td>\n",
       "      <td>28.100000</td>\n",
       "      <td>0.000000</td>\n",
       "    </tr>\n",
       "    <tr>\n",
       "      <th>75%</th>\n",
       "      <td>54682.000000</td>\n",
       "      <td>61.000000</td>\n",
       "      <td>0.000000</td>\n",
       "      <td>0.000000</td>\n",
       "      <td>114.090000</td>\n",
       "      <td>33.100000</td>\n",
       "      <td>0.000000</td>\n",
       "    </tr>\n",
       "    <tr>\n",
       "      <th>max</th>\n",
       "      <td>72940.000000</td>\n",
       "      <td>82.000000</td>\n",
       "      <td>1.000000</td>\n",
       "      <td>1.000000</td>\n",
       "      <td>271.740000</td>\n",
       "      <td>97.600000</td>\n",
       "      <td>1.000000</td>\n",
       "    </tr>\n",
       "  </tbody>\n",
       "</table>\n",
       "</div>"
      ],
      "text/plain": [
       "                 id          age  hypertension  heart_disease  \\\n",
       "count   5110.000000  5110.000000   5110.000000    5110.000000   \n",
       "mean   36517.829354    43.226614      0.097456       0.054012   \n",
       "std    21161.721625    22.612647      0.296607       0.226063   \n",
       "min       67.000000     0.080000      0.000000       0.000000   \n",
       "25%    17741.250000    25.000000      0.000000       0.000000   \n",
       "50%    36932.000000    45.000000      0.000000       0.000000   \n",
       "75%    54682.000000    61.000000      0.000000       0.000000   \n",
       "max    72940.000000    82.000000      1.000000       1.000000   \n",
       "\n",
       "       avg_glucose_level          bmi       stroke  \n",
       "count        5110.000000  4909.000000  5110.000000  \n",
       "mean          106.147677    28.893237     0.048728  \n",
       "std            45.283560     7.854067     0.215320  \n",
       "min            55.120000    10.300000     0.000000  \n",
       "25%            77.245000    23.500000     0.000000  \n",
       "50%            91.885000    28.100000     0.000000  \n",
       "75%           114.090000    33.100000     0.000000  \n",
       "max           271.740000    97.600000     1.000000  "
      ]
     },
     "execution_count": 199,
     "metadata": {},
     "output_type": "execute_result"
    }
   ],
   "source": [
    "print(\"The proportion of patients having a stroke is {:.2%}\".format(stroke['stroke'].mean()))\n",
    "print(\"The total of number of patients having a stroke is {}\".format(stroke['stroke'].sum()))\n",
    "\n",
    "stroke.describe()"
   ]
  },
  {
   "cell_type": "markdown",
   "metadata": {},
   "source": [
    "#### Create the proportions"
   ]
  },
  {
   "cell_type": "code",
   "execution_count": 200,
   "metadata": {},
   "outputs": [
    {
     "data": {
      "text/html": [
       "<div>\n",
       "<style scoped>\n",
       "    .dataframe tbody tr th:only-of-type {\n",
       "        vertical-align: middle;\n",
       "    }\n",
       "\n",
       "    .dataframe tbody tr th {\n",
       "        vertical-align: top;\n",
       "    }\n",
       "\n",
       "    .dataframe thead th {\n",
       "        text-align: right;\n",
       "    }\n",
       "</style>\n",
       "<table border=\"1\" class=\"dataframe\">\n",
       "  <thead>\n",
       "    <tr style=\"text-align: right;\">\n",
       "      <th></th>\n",
       "      <th>proportion</th>\n",
       "      <th>patients</th>\n",
       "    </tr>\n",
       "    <tr>\n",
       "      <th>gender</th>\n",
       "      <th></th>\n",
       "      <th></th>\n",
       "    </tr>\n",
       "  </thead>\n",
       "  <tbody>\n",
       "    <tr>\n",
       "      <th>Female</th>\n",
       "      <td>0.047094</td>\n",
       "      <td>2994</td>\n",
       "    </tr>\n",
       "    <tr>\n",
       "      <th>Male</th>\n",
       "      <td>0.051064</td>\n",
       "      <td>2115</td>\n",
       "    </tr>\n",
       "    <tr>\n",
       "      <th>Other</th>\n",
       "      <td>0.000000</td>\n",
       "      <td>1</td>\n",
       "    </tr>\n",
       "  </tbody>\n",
       "</table>\n",
       "</div>"
      ],
      "text/plain": [
       "        proportion  patients\n",
       "gender                      \n",
       "Female    0.047094      2994\n",
       "Male      0.051064      2115\n",
       "Other     0.000000         1"
      ]
     },
     "metadata": {},
     "output_type": "display_data"
    },
    {
     "data": {
      "text/html": [
       "<div>\n",
       "<style scoped>\n",
       "    .dataframe tbody tr th:only-of-type {\n",
       "        vertical-align: middle;\n",
       "    }\n",
       "\n",
       "    .dataframe tbody tr th {\n",
       "        vertical-align: top;\n",
       "    }\n",
       "\n",
       "    .dataframe thead th {\n",
       "        text-align: right;\n",
       "    }\n",
       "</style>\n",
       "<table border=\"1\" class=\"dataframe\">\n",
       "  <thead>\n",
       "    <tr style=\"text-align: right;\">\n",
       "      <th></th>\n",
       "      <th>proportion</th>\n",
       "      <th>patients</th>\n",
       "    </tr>\n",
       "    <tr>\n",
       "      <th>gender</th>\n",
       "      <th></th>\n",
       "      <th></th>\n",
       "    </tr>\n",
       "  </thead>\n",
       "  <tbody>\n",
       "    <tr>\n",
       "      <th>Female</th>\n",
       "      <td>0.037742</td>\n",
       "      <td>2994</td>\n",
       "    </tr>\n",
       "    <tr>\n",
       "      <th>Male</th>\n",
       "      <td>0.077069</td>\n",
       "      <td>2115</td>\n",
       "    </tr>\n",
       "    <tr>\n",
       "      <th>Other</th>\n",
       "      <td>0.000000</td>\n",
       "      <td>1</td>\n",
       "    </tr>\n",
       "  </tbody>\n",
       "</table>\n",
       "</div>"
      ],
      "text/plain": [
       "        proportion  patients\n",
       "gender                      \n",
       "Female    0.037742      2994\n",
       "Male      0.077069      2115\n",
       "Other     0.000000         1"
      ]
     },
     "metadata": {},
     "output_type": "display_data"
    },
    {
     "data": {
      "text/html": [
       "<div>\n",
       "<style scoped>\n",
       "    .dataframe tbody tr th:only-of-type {\n",
       "        vertical-align: middle;\n",
       "    }\n",
       "\n",
       "    .dataframe tbody tr th {\n",
       "        vertical-align: top;\n",
       "    }\n",
       "\n",
       "    .dataframe thead th {\n",
       "        text-align: right;\n",
       "    }\n",
       "</style>\n",
       "<table border=\"1\" class=\"dataframe\">\n",
       "  <thead>\n",
       "    <tr style=\"text-align: right;\">\n",
       "      <th></th>\n",
       "      <th>proportion</th>\n",
       "      <th>patients</th>\n",
       "    </tr>\n",
       "    <tr>\n",
       "      <th>Residence_type</th>\n",
       "      <th></th>\n",
       "      <th></th>\n",
       "    </tr>\n",
       "  </thead>\n",
       "  <tbody>\n",
       "    <tr>\n",
       "      <th>Rural</th>\n",
       "      <td>0.045346</td>\n",
       "      <td>2514</td>\n",
       "    </tr>\n",
       "    <tr>\n",
       "      <th>Urban</th>\n",
       "      <td>0.052003</td>\n",
       "      <td>2596</td>\n",
       "    </tr>\n",
       "  </tbody>\n",
       "</table>\n",
       "</div>"
      ],
      "text/plain": [
       "                proportion  patients\n",
       "Residence_type                      \n",
       "Rural             0.045346      2514\n",
       "Urban             0.052003      2596"
      ]
     },
     "metadata": {},
     "output_type": "display_data"
    },
    {
     "data": {
      "text/html": [
       "<div>\n",
       "<style scoped>\n",
       "    .dataframe tbody tr th:only-of-type {\n",
       "        vertical-align: middle;\n",
       "    }\n",
       "\n",
       "    .dataframe tbody tr th {\n",
       "        vertical-align: top;\n",
       "    }\n",
       "\n",
       "    .dataframe thead th {\n",
       "        text-align: right;\n",
       "    }\n",
       "</style>\n",
       "<table border=\"1\" class=\"dataframe\">\n",
       "  <thead>\n",
       "    <tr style=\"text-align: right;\">\n",
       "      <th></th>\n",
       "      <th>proportion</th>\n",
       "      <th>patients</th>\n",
       "    </tr>\n",
       "    <tr>\n",
       "      <th>Residence_type</th>\n",
       "      <th></th>\n",
       "      <th></th>\n",
       "    </tr>\n",
       "  </thead>\n",
       "  <tbody>\n",
       "    <tr>\n",
       "      <th>Rural</th>\n",
       "      <td>0.053302</td>\n",
       "      <td>2514</td>\n",
       "    </tr>\n",
       "    <tr>\n",
       "      <th>Urban</th>\n",
       "      <td>0.054700</td>\n",
       "      <td>2596</td>\n",
       "    </tr>\n",
       "  </tbody>\n",
       "</table>\n",
       "</div>"
      ],
      "text/plain": [
       "                proportion  patients\n",
       "Residence_type                      \n",
       "Rural             0.053302      2514\n",
       "Urban             0.054700      2596"
      ]
     },
     "metadata": {},
     "output_type": "display_data"
    }
   ],
   "source": [
    "gender_stroke_df = pd.DataFrame(stroke.groupby('gender').agg(proportion = ('stroke', np.mean), patients = ('stroke', 'count')))\n",
    "gender_hd_df = pd.DataFrame(stroke.groupby('gender').agg(proportion = ('heart_disease', np.mean), patients = ('heart_disease', 'count')))\n",
    "residence_stroke_df = pd.DataFrame(stroke.groupby('Residence_type').agg(proportion = ('stroke', np.mean), patients = ('stroke', 'count')))\n",
    "residence_hd_df = pd.DataFrame(stroke.groupby('Residence_type').agg(proportion = ('heart_disease', np.mean), patients = ('heart_disease', 'count')))\n",
    "\n",
    "\n",
    "display(gender_stroke_df)\n",
    "display(gender_hd_df)\n",
    "display(residence_stroke_df)\n",
    "display(residence_hd_df)"
   ]
  },
  {
   "cell_type": "markdown",
   "metadata": {},
   "source": [
    "## 1. Confidence Intervals for difference in Proportions\n",
    "The confidence Interval for *one proportion* is calculated using the following formula\n",
    "$$\n",
    " \\hat p\\  \\pm z \\sqrt \\frac{(\\hat p(1-\\hat p)}{n} \n",
    "$$\n",
    "\n",
    "The confidence Interval for *two proportions* is as follows\n",
    "$$\n",
    " \\hat p_1 - \\hat p_2\\  \\pm z \\sqrt{\\frac{(\\hat p_1(1-\\hat p_1)}{n_1}+\\frac{(\\hat p_2(1-\\hat p_2)}{n_2}}\n",
    "$$\n"
   ]
  },
  {
   "cell_type": "markdown",
   "metadata": {},
   "source": [
    "#### Create a function to calculate the CI of the difference between the second and the first proportion"
   ]
  },
  {
   "cell_type": "markdown",
   "metadata": {},
   "source": [
    "#### Check the confidence Intervals for stroke by gender"
   ]
  },
  {
   "cell_type": "code",
   "execution_count": 201,
   "metadata": {},
   "outputs": [
    {
     "name": "stdout",
     "output_type": "stream",
     "text": [
      "A z test has been calculated at 95.0% confidence for the difference of two proportions: \n",
      "0.0471 and 0.0511 with respective sample sizes 2994 and 2115.  The z statistic is 1.960\n",
      "We are 95.0% confident that the difference in proportions is between -0.016 and 0.0081\n",
      "Because the confidence interval includes zero, we conclude that the difference is not statistically significant\n"
     ]
    },
    {
     "data": {
      "text/plain": [
       "(-0.016, 0.0081)"
      ]
     },
     "execution_count": 201,
     "metadata": {},
     "output_type": "execute_result"
    }
   ],
   "source": [
    "male_p = gender_stroke_df.loc['Male','proportion']\n",
    "female_p = gender_stroke_df.loc['Female','proportion']\n",
    "male_n = gender_stroke_df.loc['Male','patients']\n",
    "female_n = gender_stroke_df.loc['Female','patients']\n",
    "ci_two_proportions(male_p,female_p,male_n,female_n,2,0.95)"
   ]
  },
  {
   "cell_type": "markdown",
   "metadata": {},
   "source": [
    "## 2. Confidence Intervals for one Proportion"
   ]
  },
  {
   "cell_type": "markdown",
   "metadata": {},
   "source": [
    "#### Adapt the function to work for one population"
   ]
  },
  {
   "cell_type": "markdown",
   "metadata": {},
   "source": [
    "#### Check some Examples using the stroke data set"
   ]
  },
  {
   "cell_type": "code",
   "execution_count": 202,
   "metadata": {},
   "outputs": [
    {
     "name": "stdout",
     "output_type": "stream",
     "text": [
      "A z test has been calculated at 95.0% confidence for a sample proportion : \n",
      "0.0511 and size 2115.0000. The z statistic is 1.960\n",
      "We are 95.0% confident that the population proportion is between 0.0417 and 0.0604\n"
     ]
    },
    {
     "data": {
      "text/plain": [
       "(0.0417, 0.0604)"
      ]
     },
     "execution_count": 202,
     "metadata": {},
     "output_type": "execute_result"
    }
   ],
   "source": [
    "#male CI\n",
    "ci_one_proportion(male_p,male_n,2,0.95)"
   ]
  },
  {
   "cell_type": "code",
   "execution_count": 203,
   "metadata": {},
   "outputs": [
    {
     "name": "stdout",
     "output_type": "stream",
     "text": [
      "A z test has been calculated at 95.0% confidence for a sample proportion : \n",
      "0.0471 and size 2994.0000. The z statistic is 1.960\n",
      "We are 95.0% confident that the population proportion is between 0.0395 and 0.0547\n"
     ]
    },
    {
     "data": {
      "text/plain": [
       "(0.0395, 0.0547)"
      ]
     },
     "execution_count": 203,
     "metadata": {},
     "output_type": "execute_result"
    }
   ],
   "source": [
    "# Female CI\n",
    "ci_one_proportion(female_p,female_n,2,0.95)"
   ]
  },
  {
   "cell_type": "code",
   "execution_count": 204,
   "metadata": {},
   "outputs": [
    {
     "name": "stdout",
     "output_type": "stream",
     "text": [
      "A z test has been calculated at 95.0% confidence for the difference of two proportions: \n",
      "0.0377 and 0.0771 with respective sample sizes 2994 and 2115.  The z statistic is 1.960\n",
      "We are 95.0% confident that the difference in proportions is between -0.0526 and -0.0261\n",
      "Because the confidence interval does not includes zero, we conclude that the difference is statistically significant\n"
     ]
    },
    {
     "data": {
      "text/plain": [
       "(-0.0526, -0.0261)"
      ]
     },
     "execution_count": 204,
     "metadata": {},
     "output_type": "execute_result"
    }
   ],
   "source": [
    "# Lets Try for heart disease\n",
    "male_p = gender_hd_df.loc['Male','proportion']\n",
    "female_p = gender_hd_df.loc['Female','proportion']\n",
    "male_n = gender_hd_df.loc['Male','patients']\n",
    "female_n = gender_hd_df.loc['Female','patients']\n",
    "ci_two_proportions(male_p,female_p,male_n,female_n,2,0.95)"
   ]
  },
  {
   "cell_type": "code",
   "execution_count": 205,
   "metadata": {},
   "outputs": [
    {
     "name": "stdout",
     "output_type": "stream",
     "text": [
      "A z test has been calculated at 95.0% confidence for a sample proportion : \n",
      "0.0771 and size 2115.0000. The z statistic is 1.645\n",
      "We are 95.0% confident that the population proportion is between 0.0675 and 0.0866\n"
     ]
    },
    {
     "data": {
      "text/plain": [
       "(0.0675, 0.0866)"
      ]
     },
     "execution_count": 205,
     "metadata": {},
     "output_type": "execute_result"
    }
   ],
   "source": [
    "#male CI\n",
    "ci_one_proportion(male_p,male_n,1,0.95)"
   ]
  },
  {
   "cell_type": "code",
   "execution_count": 206,
   "metadata": {},
   "outputs": [
    {
     "name": "stdout",
     "output_type": "stream",
     "text": [
      "A z test has been calculated at 95.0% confidence for a sample proportion : \n",
      "0.0377 and size 2994.0000. The z statistic is 1.645\n",
      "We are 95.0% confident that the population proportion is between 0.032 and 0.0435\n"
     ]
    },
    {
     "data": {
      "text/plain": [
       "(0.032, 0.0435)"
      ]
     },
     "execution_count": 206,
     "metadata": {},
     "output_type": "execute_result"
    }
   ],
   "source": [
    "#female CI\n",
    "ci_one_proportion(female_p,female_n,1,0.95)"
   ]
  },
  {
   "cell_type": "markdown",
   "metadata": {},
   "source": [
    "### Example- Opinion split by city region (additional two proportion CI example)\n",
    "\n",
    "Duncan is investigating if residents in the city support the construction of a new high school. He is curious avout the differenve of opinion between the noth and the south parts of the city.He obtained the following information as a random sample.\n",
    "\n",
    "\n",
    "|Supports|North|South|\n",
    "|---|---|---|\n",
    "Yes|54|77|\n",
    "No|66|63|\n",
    "Total|120|140|\n",
    "\n",
    "What is the 90% CI in the difference of opinions who support the project (Ps-Pn)"
   ]
  },
  {
   "cell_type": "code",
   "execution_count": 207,
   "metadata": {},
   "outputs": [
    {
     "name": "stdout",
     "output_type": "stream",
     "text": [
      "A z test has been calculated at 90.0% confidence for the difference of two proportions: \n",
      "0.5500 and 0.4500 with respective sample sizes 140 and 120.  The z statistic is 1.645\n",
      "We are 90.0% confident that the difference in proportions is between -0.0018 and 0.2018\n",
      "Because the confidence interval includes zero, we conclude that the difference is not statistically significant\n"
     ]
    },
    {
     "data": {
      "text/plain": [
       "(-0.0018, 0.2018)"
      ]
     },
     "execution_count": 207,
     "metadata": {},
     "output_type": "execute_result"
    }
   ],
   "source": [
    "# here we use proportion = false as we are entering the raw values\n",
    "ci_two_proportions(54,77,120,140,2,0.9,False)"
   ]
  },
  {
   "cell_type": "markdown",
   "metadata": {},
   "source": [
    "## 3. Hypothesis Testing Proportions\n",
    "In th above code we calculated the confidence Intervals. We can also run hypothesis test to calculate if there is a significance difference between the populations. The approach is similar but note one key difference. Because our null hypothesis assumes the samples follow the same distribution we used a pooled variance calculated as follows"
   ]
  },
  {
   "cell_type": "markdown",
   "metadata": {},
   "source": [
    "Note that we are doing a hypothesis test where we are testing for difference in proportions = 0\n",
    "We use the combined as the standard error of estimate\n",
    "SE = sqrt(p(1-p) (1/n1 + 1/n2))\n"
   ]
  },
  {
   "cell_type": "markdown",
   "metadata": {},
   "source": [
    "#### Create a function to calculate the p value for comparing two proportions"
   ]
  },
  {
   "cell_type": "code",
   "execution_count": 208,
   "metadata": {},
   "outputs": [],
   "source": [
    "def compare_two_proportions(x1,x2,n1,n2,tail, alpha,proportion =True):\n",
    "        \n",
    "    if proportion == True:\n",
    "        p1 = x1\n",
    "        p2 = x2\n",
    "        p = (x1*n1 + x2*n2)/(n1+n2)\n",
    "    else:\n",
    "        p1 = x1/n1\n",
    "        p2 = x2/n2\n",
    "        p = (x1+x2)/(n1+n2)\n",
    "        \n",
    "    p21 = p2 - p1\n",
    "    n= n1+n2\n",
    "    \n",
    "    # Unlike before we estimate the pooled variance\n",
    "    se = np.sqrt(p*(1-p)*(1/n1 +1/n2))\n",
    "\n",
    "    #calculate the critical z \n",
    "    critical_z = p21/se\n",
    "\n",
    "    #calculate the p value ( multiply by 2 if 2 way test)\n",
    "    p_val = tail*stats.norm.cdf(-np.abs(critical_z))\n",
    "    if p_val <= alpha:\n",
    "        print(\"We reject the Null Hypothesis with a pvalue {:2f}\".format(p_val))\n",
    "    else:\n",
    "        print(\"We fail to reject the Null Hypothesis with a pvalue {:2f}\".format(p_val))\n",
    "    \n",
    "    print (\"The z stat is \", critical_z)\n",
    "    print(\"The SE\",se)\n",
    "    return "
   ]
  },
  {
   "cell_type": "markdown",
   "metadata": {},
   "source": [
    "#### Example Male/Female Stroke (Two tail)\n",
    "$ H_0 $ : Difference in proportion of male and female having stroke = 0  \n",
    "$ H_1 $ : Difference in proportion of male and female having stroke $ \\neq $ 0   "
   ]
  },
  {
   "cell_type": "code",
   "execution_count": 209,
   "metadata": {},
   "outputs": [
    {
     "name": "stdout",
     "output_type": "stream",
     "text": [
      "We fail to reject the Null Hypothesis with a pvalue 0.516302\n",
      "The z stat is  -0.6490565013589283\n",
      "The SE 0.006116018254449811\n"
     ]
    }
   ],
   "source": [
    "# Lets Try for stroke\n",
    "male_p = gender_stroke_df.loc['Male','proportion']\n",
    "female_p = gender_stroke_df.loc['Female','proportion']\n",
    "male_n = gender_stroke_df.loc['Male','patients']\n",
    "female_n = gender_stroke_df.loc['Female','patients']\n",
    "\n",
    "# Test Null hypothesis: The chance of getting a stroke is the same for men and women (2 sided test at 5% significance)\n",
    "compare_two_proportions(male_p,female_p,male_n,female_n, 2, 0.05 ,proportion =True)"
   ]
  },
  {
   "cell_type": "markdown",
   "metadata": {},
   "source": [
    "#### Example Male/Female Heart Disease (Two tail)\n",
    "$ H_0 $ : Difference in proportion of male and female having heart disease = 0  \n",
    "$ H_1 $ : Difference in proportion of male and female having heart disease $ \\neq $ 0   "
   ]
  },
  {
   "cell_type": "code",
   "execution_count": 210,
   "metadata": {},
   "outputs": [
    {
     "name": "stdout",
     "output_type": "stream",
     "text": [
      "We reject the Null Hypothesis with a pvalue 0.000000\n",
      "The z stat is  -6.124496144701803\n",
      "The SE 0.006421166088093382\n"
     ]
    }
   ],
   "source": [
    "# Lets Try for heart disease - clear difference\n",
    "male_p = gender_hd_df.loc['Male','proportion']\n",
    "female_p = gender_hd_df.loc['Female','proportion']\n",
    "male_n = gender_hd_df.loc['Male','patients']\n",
    "female_n = gender_hd_df.loc['Female','patients']\n",
    "\n",
    "# Test Null hypothesis: The chance of getting a stroke is the same for men and women (2 sided test at 5% significance)\n",
    "compare_two_proportions(male_p,female_p,male_n,female_n, 2, 0.05 ,proportion =True)"
   ]
  },
  {
   "cell_type": "markdown",
   "metadata": {},
   "source": [
    "#### Example Urban/Rural Stroke (One tail)\n",
    "$ H_0 $ : Urban proportion with stroke = Rural proportion with stroke  \n",
    "$ H_1 $ : Urban proportion with stroke $ > $ Rural proportion with stroke"
   ]
  },
  {
   "cell_type": "code",
   "execution_count": 211,
   "metadata": {},
   "outputs": [
    {
     "name": "stdout",
     "output_type": "stream",
     "text": [
      "We fail to reject the Null Hypothesis with a pvalue 0.134580\n",
      "The z stat is  1.1050012851200206\n",
      "The SE 0.006024445130730861\n",
      "We reject the Null Hypothesis with a pvalue 0.134580\n",
      "The z stat is  1.1050012851200206\n",
      "The SE 0.006024445130730861\n"
     ]
    }
   ],
   "source": [
    "rural_p = residence_stroke_df.loc['Rural','proportion']\n",
    "urban_p = residence_stroke_df.loc['Urban','proportion']\n",
    "rural_n = residence_stroke_df.loc['Rural','patients']\n",
    "urban_n = residence_stroke_df.loc['Urban','patients']\n",
    "\n",
    "# Test Null hypothesis: The chance of getting a stroke is the same for men and women (2 sided test at 10% significance)\n",
    "compare_two_proportions(rural_p,urban_p,rural_n,urban_n, 1, 0.1 ,proportion =True)\n",
    "\n",
    "# Just to illustrate would be significany at 15 % p hacking \n",
    "compare_two_proportions(rural_p,urban_p,rural_n,urban_n, 1, 0.15 ,proportion =True)"
   ]
  }
 ],
 "metadata": {
  "kernelspec": {
   "display_name": "Python [conda env:ads033]",
   "language": "python",
   "name": "conda-env-ads033-py"
  },
  "language_info": {
   "codemirror_mode": {
    "name": "ipython",
    "version": 3
   },
   "file_extension": ".py",
   "mimetype": "text/x-python",
   "name": "python",
   "nbconvert_exporter": "python",
   "pygments_lexer": "ipython3",
   "version": "3.6.7"
  }
 },
 "nbformat": 4,
 "nbformat_minor": 4
}
